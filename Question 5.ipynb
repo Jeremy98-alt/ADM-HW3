{
 "cells": [
  {
   "cell_type": "markdown",
   "metadata": {},
   "source": [
    "# 5. Algorithmic Question"
   ]
  },
  {
   "cell_type": "markdown",
   "metadata": {},
   "source": [
    "You are given a string written in english capital letters, for example S=\"CADFECEILGJHABNOPSTIRYOEABILCNR.\" You are asked to find the maximum length of a subsequence of characters that is in alfabetical order. For example, here a subsequence of characters in alphabetical order is the \"ACEGJSTY\": \"CADFECEILGJHABNOFPSTIRYOEABILCNR.\" Among all the possible such sequences, you are asked to find the one that is the longest.\n",
    "\n",
    "Define as X[i] = \"the length of the longest sequence of characters in alphabetical order that terminates at the i-th character\". One can prove that\n",
    "\n",
    "X[i] = 1 + max{X[j]; j = 0, ..., i-1, such that S[j]<S[i]}\n",
    "\n",
    "X[i] = 1, if there does not exist such a j.\n",
    "\n",
    "1. Write a recursive program that, given a string, computes the length of the subsequence of maximum length that is in alphabetical order. Try some examples. Are the examples of short strings correct? Can you find examples that your algorithm does not terminate in reasonable time?\n",
    "\n",
    "2. Show that the running time of the algorithm is exponential.\n",
    "\n",
    "3. Write a program that computes the length of the subsequence of maximum length, using dynamic programming.\n",
    "4. What is its runtime complexity?"
   ]
  },
  {
   "cell_type": "markdown",
   "metadata": {},
   "source": [
    "### Answer 5.1"
   ]
  },
  {
   "cell_type": "markdown",
   "metadata": {},
   "source": [
    "Abbiamo realizzato un programma ricorsivo per calcolare da una stringa la lunghezza della sottosequenza più grande che è in ordine alfabetico. Nel nostro algoritmo abbiamo realizzato due funzioni la prima dove calcolo la massima lunghezza per ogni insieme di sottostringhe considerato al variare dell'ultima lettera e la seconda funzione dove invece riporto il massimo assoluto. Per la prima funzione abbiamo definito inizialmente la variabile n uguale alla lunghezza della stringa ela variabile \"max_end\" che definisce la lunghezza massima per ogni cluster di sottostringa considera che inizi. Abbiamo definito la funzione ricorsiva in un for loop con range uguale ad \"n\". Per ogni indice i calcoliamo la funzione ricorsiva considerando le stringhe che partono dalla prima lettera fino alla iesima. Per ogni caso salviamo il risultato con la variabile \"partial\" e nel caso in cui la lettera in posizione i-1 è piu piccola della lettera in posizione n-1 e contemporaneamente se il valore \"partial\" aumentato di 1 è maggiore del max_end allora aggiorno max_end con partial + 1 e passo avanti. Alla fine ritorno il max_end. Nella seconda funzione setto il max_value iniziale richiamo la funzioe substring_ending e il valore massimo salvato in memoria e infine ritorno il valore massimo assoluto"
   ]
  },
  {
   "cell_type": "code",
   "execution_count": 121,
   "metadata": {},
   "outputs": [],
   "source": [
    "def substring_ending(string):\n",
    "    global max_value\n",
    "    n = len(string)\n",
    "    max_end=1\n",
    "    for i in range(1,n):\n",
    "        partial =substring_ending(string[:i])\n",
    "        if string[i-1] < string[n-1] and partial + 1 > max_end:\n",
    "            max_end = partial + 1\n",
    "        if max_end > max_value:\n",
    "            max_value = max_end\n",
    "    return max_end\n",
    "\n",
    "def longest_substring(string):\n",
    "    global max_value\n",
    "    max_value = 1\n",
    "    substring_ending(string)\n",
    "    return max_value\n",
    "                            "
   ]
  },
  {
   "cell_type": "code",
   "execution_count": 122,
   "metadata": {},
   "outputs": [
    {
     "data": {
      "text/plain": [
       "4"
      ]
     },
     "execution_count": 122,
     "metadata": {},
     "output_type": "execute_result"
    }
   ],
   "source": [
    "substring_ending(\"zabch\")"
   ]
  },
  {
   "cell_type": "code",
   "execution_count": 123,
   "metadata": {},
   "outputs": [
    {
     "data": {
      "text/plain": [
       "7"
      ]
     },
     "execution_count": 123,
     "metadata": {},
     "output_type": "execute_result"
    }
   ],
   "source": [
    "longest_substring(\"lmabcnofgqrhi\")"
   ]
  },
  {
   "cell_type": "code",
   "execution_count": 128,
   "metadata": {},
   "outputs": [
    {
     "data": {
      "text/plain": [
       "4"
      ]
     },
     "execution_count": 128,
     "metadata": {},
     "output_type": "execute_result"
    }
   ],
   "source": [
    "longest_substring(\"moabloc\")"
   ]
  },
  {
   "cell_type": "markdown",
   "metadata": {},
   "source": [
    "L'algoritmo realizzato ha un running time esponenziale pari a 2<sup>n</sup> (Dimostreremo questo nel punto successivo) per questo motivo se aumento di una sola unita la lunghezza della stringa il tempo necessario per ottenre la sottostringa di lunghezza massima raddoppierà. Considerata la stringa \"CADFECEILGJHABNOPSTIRYOEABILCNR\" il running time è uguale a 2<sup>31</sup> per tale motivo l'algoritmo non si concludera in tempo ragionevole"
   ]
  },
  {
   "cell_type": "markdown",
   "metadata": {},
   "source": [
    "### Answer 5.2"
   ]
  },
  {
   "cell_type": "markdown",
   "metadata": {},
   "source": [
    "Vogliamo ora dimostrare che il running time dell'algoritmo precedentemente definito è esponenziale. L'algoritmo realizzato utilizza una funzione ricorsiva per determinare la lunghezza della sottostringa più grande ordinata alfabeticamente. Ipotizzando che la stringa abbia lunghezza \"n\". Per cui la funzione associata al nostro algoritmo può essere generalizzata con f(n).\n",
    "\n",
    "For the recurrence we can define f(n) = f(n-1) + f(n-2) + f(n-3) + ... + f(1) and conseguentemente we can define f(n-1) =f(n-2) + f(n-3) + ... + f(1)\n",
    "\n",
    "Se lavoriamo su queste due equazioni possiamo seplificare \n",
    "\n",
    "f(n) = f(n-1) + f(n-2) + f(n-3) + ... + f(1) = (f(n-2) + f(n-2) + f(n-3) + ... + f(1)) + f(n-2) + f(n-3) + ... + f(1) = 2 * f(n-1)\n",
    "\n",
    "Questo procedimento può essere reiterato per f(n-1), f(n-2) fino a f(1)\n",
    "\n",
    "f(n) = 2*f(n-1)\n",
    "f(n-1) = 2*f(n-2)\n",
    "...\n",
    "f(2) = 2*f(1)\n",
    "f(1) = 2*f(0)\n",
    "\n",
    "Unendo tutte le equazioni ottenute posso scrivere che \n",
    "\n",
    "f(n) = 2 * f(n-1) = 2 * 2 * f(n-2) = 2 * 2 * 2 * f(n-3) = 2 * 2 * 2 * 2 * f(n-4) = ..... = (2<sup>n - 1</sup>) * f(1) = (2<sup>n</sup>) * f(0) =  O( 2<sup>n</sup> )\n",
    "\n",
    "Ho quindi dimostrato che utilizzando una funzione ricorsiva nell'algoritmo il running time risulta esponentiale \n",
    "\n"
   ]
  },
  {
   "cell_type": "code",
   "execution_count": null,
   "metadata": {},
   "outputs": [],
   "source": []
  },
  {
   "cell_type": "markdown",
   "metadata": {},
   "source": [
    "### Answer 5.3"
   ]
  },
  {
   "cell_type": "markdown",
   "metadata": {},
   "source": [
    "Il programma da noi realizzato usando la programmazione dinamica prende una stringa e associa ad essa una lista contenente per ogni lettera della stringa un valore iniziale uguale ad uno. Questi valori si vanno ad aggiornare ma in che modo? Per ogni lettera della stringa (definita come lettera i-esima) confronto se le lettere che la precedono sono inferiori. Il confronto avviene lettera per lettera. Se la lettera in posizione j-esima (con 0<j<i) è più piccola della lettera in posizione i-esima vado a controllare il valore associato a quelle lettere nella lista \"match\". Se il valore della lista in posizione i-esima è piu piccolo del valore della lista in posizione    j-esima + 1 allora aggiornerò il valore della lista i-esima al valore della lista in posizione j-esima più uno. Nel caso in cui invece la lettera della posizione j-esima è piu grande della posizione i-esima allora vado avanti.\n",
    "Una volta concluso il for loop sull'indice i io ottero una nuova lista \"match\" aggiornata contenente per ogni lettera i-esima la lunghezza massima di sottostringa che posso realizzare partendo dall'inzio fino alla posizone i-esima saltando le lettere maggiori alla lettera in posizione i-esima. \n",
    "\n",
    "Per determinare a questo punto la lunghezza della sottostringa in ordine alfabetico crescente più lunga basta semplicemente trovare il massim valore nella lista match"
   ]
  },
  {
   "cell_type": "code",
   "execution_count": 125,
   "metadata": {},
   "outputs": [],
   "source": [
    "def longestSubstring(string):\n",
    "    match=[]\n",
    "    for i in range(len(string)):\n",
    "        match.append(1)\n",
    "    for i in range(0, len(string)):\n",
    "        for j in range(0,i):\n",
    "            if string[j] < string[i]:\n",
    "                if match[i] < match[j] +1:\n",
    "                    match[i] = match[j] +1\n",
    "    max_value = max(match)\n",
    "    return max_value\n",
    " "
   ]
  },
  {
   "cell_type": "code",
   "execution_count": 126,
   "metadata": {},
   "outputs": [
    {
     "data": {
      "text/plain": [
       "11"
      ]
     },
     "execution_count": 126,
     "metadata": {},
     "output_type": "execute_result"
    }
   ],
   "source": [
    "longestSubstring(\"CADFECEILGJHABNOPSTIRYOEABILCNR.\")"
   ]
  },
  {
   "cell_type": "markdown",
   "metadata": {},
   "source": [
    "### Answer 5.4"
   ]
  },
  {
   "cell_type": "markdown",
   "metadata": {},
   "source": [
    "The time complexity for the program defined in the question 5.3 is equal to O(n<sup>2</sup>). Why? If i analyze the  function we find 2 linear operation, a single for loop  with inside one operation and a nested for loop with inside 3 operation. So we get a time complexity equal to:\n",
    "\n",
    " Time Complexity = 3n<sup>2</sup>+ n + 2 = O(n<sup>2</sup>)\n",
    " \n",
    "In this time complexity we drop the costant element and also the element with 1°grade. So time complexity is asintotical to n<sup>2</sup>"
   ]
  },
  {
   "cell_type": "code",
   "execution_count": null,
   "metadata": {},
   "outputs": [],
   "source": []
  }
 ],
 "metadata": {
  "kernelspec": {
   "display_name": "Python 3",
   "language": "python",
   "name": "python3"
  },
  "language_info": {
   "codemirror_mode": {
    "name": "ipython",
    "version": 3
   },
   "file_extension": ".py",
   "mimetype": "text/x-python",
   "name": "python",
   "nbconvert_exporter": "python",
   "pygments_lexer": "ipython3",
   "version": "3.8.2"
  }
 },
 "nbformat": 4,
 "nbformat_minor": 4
}
