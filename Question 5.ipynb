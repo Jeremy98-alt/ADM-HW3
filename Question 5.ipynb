{
 "cells": [
  {
   "cell_type": "markdown",
   "metadata": {},
   "source": [
    "# 5. Algorithmic Question"
   ]
  },
  {
   "cell_type": "markdown",
   "metadata": {},
   "source": [
    "You are given a string written in english capital letters, for example S=\"CADFECEILGJHABNOPSTIRYOEABILCNR.\" You are asked to find the maximum length of a subsequence of characters that is in alfabetical order. For example, here a subsequence of characters in alphabetical order is the \"ACEGJSTY\": \"CADFECEILGJHABNOFPSTIRYOEABILCNR.\" Among all the possible such sequences, you are asked to find the one that is the longest.\n",
    "\n",
    "Define as X[i] = \"the length of the longest sequence of characters in alphabetical order that terminates at the i-th character\". One can prove that\n",
    "\n",
    "X[i] = 1 + max{X[j]; j = 0, ..., i-1, such that S[j]<S[i]}\n",
    "\n",
    "X[i] = 1, if there does not exist such a j.\n",
    "\n",
    "1. Write a recursive program that, given a string, computes the length of the subsequence of maximum length that is in alphabetical order. Try some examples. Are the examples of short strings correct? Can you find examples that your algorithm does not terminate in reasonable time?\n",
    "\n",
    "2. Show that the running time of the algorithm is exponential.\n",
    "\n",
    "3. Write a program that computes the length of the subsequence of maximum length, using dynamic programming.\n",
    "4. What is its runtime complexity?"
   ]
  },
  {
   "cell_type": "markdown",
   "metadata": {},
   "source": [
    "### Answer 5.1"
   ]
  },
  {
   "cell_type": "markdown",
   "metadata": {},
   "source": [
    "We created a recursive program which, given a string, determines the length of its longest subsequence that is still in alphabetical order. Our program is composed of two functions: the first calculates the maximum length for each set of subsequences considered at the variation of the last letter, while the second returns the absolute maximum. \n",
    "\n",
    "For the first function we have initially defined a variable n equal to the length of the string and a variable \"max_end\". This variable is updated for each cluster of substrings, to define the max length of each. We then defined the recursive function in a for loop with range equal to n. For each index we computed the recursive function considering the strings that start from the first letter up until the i-th one. \n",
    "\n",
    "Now, for each instance we save the result with the variable \"partial\". In those cases when the letter in position i-1 comes first in alphabetical order with respect to the letter in position n-1 and at the same time the value \"partial\" +1 is greater than max_end, then we update max_end as partial+1. \n",
    "\n",
    "In the second function, we set the initial max_value as 1 and then apply the previous function to calculate the final absolute max value, which is then returned."
   ]
  },
  {
   "cell_type": "code",
   "execution_count": 121,
   "metadata": {},
   "outputs": [],
   "source": [
    "def substring_ending(string):\n",
    "    global max_value\n",
    "    n = len(string)\n",
    "    max_end=1\n",
    "    for i in range(1,n):\n",
    "        partial =substring_ending(string[:i])\n",
    "        if string[i-1] < string[n-1] and partial + 1 > max_end:\n",
    "            max_end = partial + 1\n",
    "        if max_end > max_value:\n",
    "            max_value = max_end\n",
    "    return max_end\n",
    "\n",
    "def longest_substring(string):\n",
    "    global max_value\n",
    "    max_value = 1\n",
    "    substring_ending(string)\n",
    "    return max_value\n",
    "                            "
   ]
  },
  {
   "cell_type": "code",
   "execution_count": 122,
   "metadata": {},
   "outputs": [
    {
     "data": {
      "text/plain": [
       "4"
      ]
     },
     "execution_count": 122,
     "metadata": {},
     "output_type": "execute_result"
    }
   ],
   "source": [
    "substring_ending(\"zabch\")"
   ]
  },
  {
   "cell_type": "code",
   "execution_count": 123,
   "metadata": {},
   "outputs": [
    {
     "data": {
      "text/plain": [
       "7"
      ]
     },
     "execution_count": 123,
     "metadata": {},
     "output_type": "execute_result"
    }
   ],
   "source": [
    "longest_substring(\"lmabcnofgqrhi\")"
   ]
  },
  {
   "cell_type": "code",
   "execution_count": 128,
   "metadata": {},
   "outputs": [
    {
     "data": {
      "text/plain": [
       "4"
      ]
     },
     "execution_count": 128,
     "metadata": {},
     "output_type": "execute_result"
    }
   ],
   "source": [
    "longest_substring(\"moabloc\")"
   ]
  },
  {
   "cell_type": "markdown",
   "metadata": {},
   "source": [
    "This algorithm's running time is exponential, equal to 2<sup>n</sup> (this will be shown in the next point). For this reason, when increasing the length of the string even of one single unit, the time needed to obtain the max length substring will double. Considering the string \"CADFECEILGJHABNOPSTIRYOEABILCNR\" we get a running time of 2<sup>31</sup>, therefore the algorithm will not compute within a reasonable time."
   ]
  },
  {
   "cell_type": "markdown",
   "metadata": {},
   "source": [
    "### Answer 5.2"
   ]
  },
  {
   "cell_type": "markdown",
   "metadata": {},
   "source": [
    "We now want to prove that the running time of this algorithm is exponential. We know that it uses a recursive function to determine the lenght of the longest substring which is still in alphabetical order. So, for a given string of length \"n\", we can generalise our function as f(n). \n",
    "\n",
    "For the recurrence, we can now define f(n) = f(n-1) + f(n-2) + f(n-3) + ... + f(1)\n",
    "Consequently, we can define f(n-1) =f(n-2) + f(n-3) + ... + f(1)\n",
    "\n",
    "Working on these two equations we can simplify as follows:\n",
    "\n",
    "f(n) = f(n-1) + f(n-2) + f(n-3) + ... + f(1) = (f(n-2) + f(n-2) + f(n-3) + ... + f(1)) + f(n-2) + f(n-3) + ... + f(1) = 2 * f(n-1)\n",
    "\n",
    "This procedure can be replicated for f(n-1), f(n-2), etc. up until f(1):\n",
    "f(n) = 2f(n-1) f(n-1) = 2f(n-2) ... f(2) = 2f(1) f(1) = 2f(0)\n",
    "\n",
    "By combining all these equations together we can write:\n",
    "f(n) = 2 * f(n-1) = 2 * 2 * f(n-2) = 2 * 2 * 2 * f(n-3) = 2 * 2 * 2 * 2 * f(n-4) = ..... = (2<sup>n</sup> - 1) * f(1) = (2<sup>n</sup>) * f(0) = O( 2<sup>n</sup> )\n",
    "\n",
    "Therefore, we have proved that the recursive function has an exponential running time, as previously stated."
   ]
  },
  {
   "cell_type": "markdown",
   "metadata": {},
   "source": [
    "### Answer 5.3"
   ]
  },
  {
   "cell_type": "markdown",
   "metadata": {},
   "source": [
    "The program we created by using dynamic programming takes a string and associates it to a list containing for each letter of the string an initial value equal to 1. To update these values, we compare letter by letter each letter of the string, to check which one comes first in alphabetical order. If the letter in position j-th (with 0<j<i) is \"smaller\" than the letter in position i, we check the value associated to those letters in the \"match\" list. If the value of the list in position i is \"smaller\" than the value of the list in position j+1, we will update the value of the i-th list to the value of the list in position j+1. When the letter in position j is instead bigger than position i, then we go on without changing anything. Once the for loop is completed, we will have obtained a new \"match\" list, which contains for each i-th letter the length of the max substring which can be obtained by starting from the beginning of the string until the i-th position, skipping the letters greater than the letter in position i.\n",
    "\n",
    "At this point, to determine the length of the longest substring in alphabetical order we simply have to find the value in the \"match\" list."
   ]
  },
  {
   "cell_type": "code",
   "execution_count": 125,
   "metadata": {},
   "outputs": [],
   "source": [
    "def longestSubstring(string):\n",
    "    match=[]\n",
    "    for i in range(len(string)):\n",
    "        match.append(1)\n",
    "    for i in range(0, len(string)):\n",
    "        for j in range(0,i):\n",
    "            if string[j] < string[i]:\n",
    "                if match[i] < match[j] +1:\n",
    "                    match[i] = match[j] +1\n",
    "    max_value = max(match)\n",
    "    return max_value\n",
    " "
   ]
  },
  {
   "cell_type": "code",
   "execution_count": 126,
   "metadata": {},
   "outputs": [
    {
     "data": {
      "text/plain": [
       "11"
      ]
     },
     "execution_count": 126,
     "metadata": {},
     "output_type": "execute_result"
    }
   ],
   "source": [
    "longestSubstring(\"CADFECEILGJHABNOPSTIRYOEABILCNR.\")"
   ]
  },
  {
   "cell_type": "markdown",
   "metadata": {},
   "source": [
    "### Answer 5.4"
   ]
  },
  {
   "cell_type": "markdown",
   "metadata": {},
   "source": [
    "The time complexity for the program defined in the question 5.3 is equal to O(n<sup>2</sup>). This can be easily shown by analyzing the  function: there are two linear operations, a single for loop  with one operation in it and a nested for loop with 3 operations in it. Thus, we get a time complexity equal to:\n",
    "\n",
    " Time Complexity = 3n<sup>2</sup>+ n + 2 = O(n<sup>2</sup>)\n",
    " \n",
    "In this time complexity we can drop the costant element and also the element with 1°grade. Consequently, the time complexity is asymptotic to n<sup>2</sup>."
   ]
  },
  {
   "cell_type": "markdown",
   "metadata": {},
   "source": []
  }
 ],
 "metadata": {
  "kernelspec": {
   "display_name": "Python 3",
   "language": "python",
   "name": "python3"
  },
  "language_info": {
   "codemirror_mode": {
    "name": "ipython",
    "version": 3
   },
   "file_extension": ".py",
   "mimetype": "text/x-python",
   "name": "python",
   "nbconvert_exporter": "python",
   "pygments_lexer": "ipython3",
   "version": "3.8.3"
  }
 },
 "nbformat": 4,
 "nbformat_minor": 4
}
