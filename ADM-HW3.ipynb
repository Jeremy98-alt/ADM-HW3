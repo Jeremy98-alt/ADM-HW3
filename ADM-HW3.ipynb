{
 "cells": [
  {
   "cell_type": "code",
   "execution_count": 27,
   "metadata": {},
   "outputs": [],
   "source": [
    "from bs4 import BeautifulSoup\n",
    "import lxml #is a parser for HTMl\n",
    "import webscraping\n",
    "import requests\n",
    "import os\n",
    "import re\n",
    "import csv\n",
    "#from selenium import webdriver\n",
    "from langdetect import detect"
   ]
  },
  {
   "cell_type": "markdown",
   "metadata": {},
   "source": [
    "We shoul generalize these functions... in webscraping.py!"
   ]
  },
  {
   "cell_type": "markdown",
   "metadata": {},
   "source": [
    "## **[RQ1.1] Get the list of books**"
   ]
  },
  {
   "cell_type": "markdown",
   "metadata": {},
   "source": [
    "We start to scrape the three pages to extract the URLs for each of them"
   ]
  },
  {
   "cell_type": "code",
   "execution_count": 32,
   "metadata": {},
   "outputs": [],
   "source": [
    "UrlsFiles = open(\"urlpages.txt\", \"w\")\n",
    "\n",
    "url = \"https://www.goodreads.com/list/show/1.Best_Books_Ever?page=\"+str(1)\n",
    "page = requests.get(url)\n",
    "soup = BeautifulSoup(page.content, features='lxml')\n",
    "for a in soup.find_all('a', class_=\"bookTitle\"): #.contents[0].split('\\n')[1].strip()\n",
    "    UrlsFiles.write(a.get('href')+'\\n')\n",
    "\n",
    "#UrlsFiles.truncate(UrlsFiles.tell()-1) see how to remove the '\\n'\n",
    "UrlsFiles.close()"
   ]
  },
  {
   "cell_type": "markdown",
   "metadata": {},
   "source": [
    "## **RQ[1.2] Crawl books**"
   ]
  },
  {
   "cell_type": "code",
   "execution_count": 10,
   "metadata": {},
   "outputs": [],
   "source": [
    "headpart = \"https://www.goodreads.com\""
   ]
  },
  {
   "cell_type": "code",
   "execution_count": 11,
   "metadata": {},
   "outputs": [],
   "source": [
    "direct = \"htmlpages\" #Directory  \n",
    "parent_dir = \"./\" #Parent Directory path \n",
    "pathAncestor = os.path.join(parent_dir, direct) #Path\n",
    "os.mkdir(pathAncestor) #create the folder in the path"
   ]
  },
  {
   "cell_type": "code",
   "execution_count": 12,
   "metadata": {},
   "outputs": [],
   "source": [
    "for i in range(1,101):\n",
    "    os.makedirs(os.path.join(pathAncestor, 'page ' + str(i)))"
   ]
  },
  {
   "cell_type": "code",
   "execution_count": 13,
   "metadata": {},
   "outputs": [],
   "source": [
    "UrlsFiles = open(\"urlpages.txt\", \"r\")\n",
    "\n",
    "for i, x in enumerate(UrlsFiles,1):\n",
    "    subdirectory = pathAncestor + \"/page \" + str(i)\n",
    "    article_name = \"/article_\"+str(i)+\".html\"\n",
    "    \n",
    "    complete_path = subdirectory + article_name\n",
    "    with open(complete_path, \"wb\") as ip_file:\n",
    "        link = headpart + x\n",
    "        page = requests.get(link)\n",
    "        \n",
    "        soup = BeautifulSoup(page.text, features='lxml')\n",
    "        \n",
    "        ip_file.write(soup.encode('utf-8'))\n",
    "        ip_file.close()\n",
    "\n",
    "UrlsFiles.close()"
   ]
  },
  {
   "cell_type": "markdown",
   "metadata": {},
   "source": [
    "## **RQ[1.3] Parse downloaded pages**"
   ]
  },
  {
   "cell_type": "code",
   "execution_count": 33,
   "metadata": {},
   "outputs": [],
   "source": [
    "def scrap_book(href, tsv_writer, Url):\n",
    "    r = requests.get(href)\n",
    "    soup = BeautifulSoup(r.text, features=\"lxml\")\n",
    "    \n",
    "    #extract rating and review count\n",
    "    ratings = soup.find_all('a', href=\"#other_reviews\")\n",
    "    rating_count = -1\n",
    "    rating = -1\n",
    "    for raiting in ratings:\n",
    "        if raiting.find_all('meta', itemprop=\"ratingCount\"):\n",
    "            ratingCount = raiting.text.replace('\\n', '').strip().split(' ')[0].replace(',', '')\n",
    "        elif raiting.find_all('meta', itemprop=\"reviewCount\"):\n",
    "            reviewCount = raiting.text.replace('\\n', '').strip().split(' ')[0].replace(',', '')\n",
    "    \n",
    "    #extract the book title\n",
    "    bookTitle = soup.find_all('h1')[0].contents[0].replace('\\n', '').strip()\n",
    "\n",
    "    #extract the book authors\n",
    "    bookAuthors = soup.find_all('span', itemprop='name')[0].contents[0]\n",
    "    \n",
    "    #extract the book authors, we shoul FIX it.\n",
    "    Plot = ''.join([c for c in soup.find_all('div', id=\"description\")[0].contents[1].text if c != '</br>'])\n",
    "    if detect(Plot) != \"en\":\n",
    "        Plot = \"NaN\"\n",
    "    \n",
    "    #extract the date\n",
    "    date = soup.find_all('div', id=\"details\")[0].contents[3].text.replace('\\n', '').strip().split()\n",
    "    Published = date[1]+\" \"+date[2]+\" \"+date[3]\n",
    "    \n",
    "    #Rating Value\n",
    "    ratingValue = soup.find('span', itemprop=\"ratingValue\").text.strip()\n",
    "    \n",
    "    #Number of pages\n",
    "    NumberofPages = soup.find('span', itemprop=\"numberOfPages\").text.split()[0]\n",
    "    \n",
    "    #Title series\n",
    "    bookSeries = soup.find_all('a', href= re.compile(r'/series/*'))\n",
    "    if not bookSeries:\n",
    "        bookSeries = \"NaN\"\n",
    "    else:\n",
    "        bookSeries = soup.find_all('a', href= re.compile(r'/series/*'))[0].contents[0].strip()\n",
    "    \n",
    "    #Places\n",
    "    Setting = []\n",
    "    for places in soup.find_all('a', href= re.compile(r'/places/*')):\n",
    "        Setting.append(places.text)\n",
    "    Setting = \", \".join(Setting) if len(Setting)>=1 else \"NaN\"\n",
    "        \n",
    "    #list of characters\n",
    "    Characters = []\n",
    "    for character in soup.find_all('a', href= re.compile(r'/characters/*') ):\n",
    "        Characters.append(character.text)\n",
    "    Characters = \", \".join(Characters) if len(Characters)>=1 else \"NaN\"\n",
    "    \n",
    "    tsv_writer.writerow([bookTitle, bookSeries, bookAuthors, ratingValue, ratingCount, reviewCount, Plot, NumberofPages, Published, Characters, Setting, Url])"
   ]
  },
  {
   "cell_type": "code",
   "execution_count": 35,
   "metadata": {},
   "outputs": [],
   "source": [
    "UrlsFiles = open(\"urlpages.txt\", \"r\")\n",
    "\n",
    "with open('./output.tsv', 'w', encoding=\"utf-8\", newline='') as out_file:\n",
    "    tsv_writer = csv.writer(out_file, delimiter='\\t')\n",
    "    tsv_writer.writerow(['bookTitle', 'bookSeries', 'bookAuthors', 'ratingValue', \n",
    "                    'ratingCount', 'reviewCount', 'Plot', 'NumberofPages', 'Published',\n",
    "                    'Characters', 'Setting', 'Url'])\n",
    "    for link in UrlsFiles:\n",
    "        scrap_book(\"https://www.goodreads.com\" + link, tsv_writer, link)\n",
    "\n",
    "UrlsFiles.close()"
   ]
  }
 ],
 "metadata": {
  "kernelspec": {
   "display_name": "Python 3",
   "language": "python",
   "name": "python3"
  },
  "language_info": {
   "codemirror_mode": {
    "name": "ipython",
    "version": 3
   },
   "file_extension": ".py",
   "mimetype": "text/x-python",
   "name": "python",
   "nbconvert_exporter": "python",
   "pygments_lexer": "ipython3",
   "version": "3.8.3"
  }
 },
 "nbformat": 4,
 "nbformat_minor": 4
}
