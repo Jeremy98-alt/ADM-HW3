{
 "cells": [
  {
   "cell_type": "code",
   "execution_count": 11,
   "metadata": {},
   "outputs": [],
   "source": [
    "from bs4 import BeautifulSoup\n",
    "import lxml #is a parser for HTMl\n",
    "#import webscraping\n",
    "import requests\n",
    "import os\n",
    "import re\n",
    "import csv\n",
    "#from selenium import webdriver\n",
    "from langdetect import detect"
   ]
  },
  {
   "cell_type": "markdown",
   "metadata": {},
   "source": [
    "We shoul generalize these functions... in webscraping.py!"
   ]
  },
  {
   "cell_type": "markdown",
   "metadata": {},
   "source": [
    "## **[RQ1.1] Get the list of books**"
   ]
  },
  {
   "cell_type": "markdown",
   "metadata": {},
   "source": [
    "We start to scrape the three pages to extract the URLs for each of them"
   ]
  },
  {
   "cell_type": "code",
   "execution_count": 12,
   "metadata": {},
   "outputs": [],
   "source": [
    "UrlsFiles = open(\"urlpages.txt\", \"w\")\n",
    "\n",
    "url = \"https://www.goodreads.com/list/show/1.Best_Books_Ever?page=\"+str(2)\n",
    "page = requests.get(url)\n",
    "soup = BeautifulSoup(page.content, features='lxml')\n",
    "for a in soup.find_all('a', class_=\"bookTitle\"): #.contents[0].split('\\n')[1].strip()\n",
    "    UrlsFiles.write(a.get('href')+'\\n')\n",
    "\n",
    "#UrlsFiles.truncate(UrlsFiles.tell()-1) see how to remove the '\\n'\n",
    "UrlsFiles.close()"
   ]
  },
  {
   "cell_type": "markdown",
   "metadata": {},
   "source": [
    "## **RQ[1.2] Crawl books**"
   ]
  },
  {
   "cell_type": "code",
   "execution_count": 13,
   "metadata": {},
   "outputs": [],
   "source": [
    "headpart = \"https://www.goodreads.com\""
   ]
  },
  {
   "cell_type": "code",
   "execution_count": 14,
   "metadata": {},
   "outputs": [],
   "source": [
    "direct = \"htmlpages\" #Directory  \n",
    "parent_dir = \"./\" #Parent Directory path \n",
    "pathAncestor = os.path.join(parent_dir, direct) #Path\n",
    "os.mkdir(pathAncestor) #create the folder in the path"
   ]
  },
  {
   "cell_type": "code",
   "execution_count": 15,
   "metadata": {},
   "outputs": [],
   "source": [
    "for i in range(1,101):\n",
    "    os.makedirs(os.path.join(pathAncestor, 'page ' + str(i)))"
   ]
  },
  {
   "cell_type": "code",
   "execution_count": 16,
   "metadata": {},
   "outputs": [],
   "source": [
    "UrlsFiles = open(\"urlpages.txt\", \"r\")\n",
    "\n",
    "for i, x in enumerate(UrlsFiles,1):\n",
    "    subdirectory = pathAncestor + \"/page \" + str(i)\n",
    "    article_name = \"/article_\"+str(i)+\".html\"\n",
    "    \n",
    "    complete_path = subdirectory + article_name\n",
    "    with open(complete_path, \"wb\") as ip_file:\n",
    "        link = headpart + x\n",
    "        page = requests.get(link)\n",
    "        \n",
    "        soup = BeautifulSoup(page.text, features='lxml')\n",
    "        \n",
    "        ip_file.write(soup.encode('utf-8'))\n",
    "        ip_file.close()\n",
    "\n",
    "UrlsFiles.close()"
   ]
  },
  {
   "cell_type": "markdown",
   "metadata": {},
   "source": [
    "## **RQ[1.3] Parse downloaded pages**"
   ]
  },
  {
   "cell_type": "code",
   "execution_count": 17,
   "metadata": {},
   "outputs": [],
   "source": [
    "def scrap_book(href, tsv_writer, Url):\n",
    "    r = requests.get(href) #call to have the html page with the useful information for my analysis\n",
    "    soup = BeautifulSoup(r.text, features=\"lxml\") #parse the text\n",
    "    \n",
    "    #extract rating and review count\n",
    "    ratings = soup.find_all('a', href=\"#other_reviews\") #search the ratings in its\n",
    "    rating_count = -1\n",
    "    rating = -1\n",
    "    for raiting in ratings:\n",
    "        if raiting.find_all('meta', itemprop=\"ratingCount\"):\n",
    "            ratingCount = raiting.text.replace('\\n', '').strip().split(' ')[0].replace(',', '')\n",
    "        elif raiting.find_all('meta', itemprop=\"reviewCount\"):\n",
    "            reviewCount = raiting.text.replace('\\n', '').strip().split(' ')[0].replace(',', '')\n",
    "    \n",
    "    #extract the book title\n",
    "    bookTitle = soup.find_all('h1')[0].contents[0].replace('\\n', '').strip()\n",
    "\n",
    "    #extract the book authors\n",
    "    bookAuthors = soup.find_all('span', itemprop='name')[0].contents[0]\n",
    "    \n",
    "    #extract the book authors, we shoul FIX it.\n",
    "    try:\n",
    "        Plot = soup.find_all('div', id=\"description\")[0].contents[3].text\n",
    "    except:\n",
    "        Plot = soup.find_all('div', id=\"description\")[0].contents[1].text\n",
    "    if detect(Plot) != \"en\":\n",
    "        Plot = \"NaN\"\n",
    "    \n",
    "    #extract the date\n",
    "    date = soup.find_all('div', id=\"details\")[0].contents[3].text.replace('\\n', '').strip().split()\n",
    "    Published = date[1]+\" \"+date[2]+\" \"+date[3]\n",
    "    \n",
    "    #Rating Value\n",
    "    ratingValue = soup.find('span', itemprop=\"ratingValue\").text.strip()\n",
    "    \n",
    "    #Number of pages\n",
    "    NumberofPages = soup.find('span', itemprop=\"numberOfPages\").text.split()[0]\n",
    "    \n",
    "    #Title series\n",
    "    bookSeries = soup.find_all('a', href= re.compile(r'/series/*'))\n",
    "    if not bookSeries:\n",
    "        bookSeries = \"NaN\"\n",
    "    else:\n",
    "        bookSeries = soup.find_all('a', href= re.compile(r'/series/*'))[0].contents[0].strip()\n",
    "    \n",
    "    #Places\n",
    "    Setting = []\n",
    "    for places in soup.find_all('a', href= re.compile(r'/places/*')):\n",
    "        Setting.append(places.text)\n",
    "    Setting = \", \".join(Setting) if len(Setting)>=1 else \"NaN\"\n",
    "        \n",
    "    #list of characters\n",
    "    Characters = []\n",
    "    for character in soup.find_all('a', href= re.compile(r'/characters/*') ):\n",
    "        Characters.append(character.text)\n",
    "    Characters = \", \".join(Characters) if len(Characters)>=1 else \"NaN\"\n",
    "    \n",
    "    tsv_writer.writerow([bookTitle, bookSeries, bookAuthors, ratingValue, ratingCount, reviewCount, Plot, NumberofPages, Published, Characters, Setting, Url])"
   ]
  },
  {
   "cell_type": "code",
   "execution_count": 18,
   "metadata": {
    "scrolled": true
   },
   "outputs": [],
   "source": [
    "UrlsFiles = open(\"urlpages.txt\", \"r\")\n",
    "\n",
    "with open('./output.tsv', 'w', encoding=\"utf-8\", newline='') as out_file:\n",
    "    tsv_writer = csv.writer(out_file, delimiter='\\t')\n",
    "    tsv_writer.writerow(['bookTitle', 'bookSeries', 'bookAuthors', 'ratingValue', \n",
    "                    'ratingCount', 'reviewCount', 'Plot', 'NumberofPages', 'Published',\n",
    "                    'Characters', 'Setting', 'Url'])\n",
    "    for link in UrlsFiles:\n",
    "        scrap_book(\"https://www.goodreads.com\" + link, tsv_writer, link)\n",
    "\n",
    "UrlsFiles.close()"
   ]
  },
  {
   "cell_type": "code",
   "execution_count": 121,
   "metadata": {},
   "outputs": [
    {
     "name": "stdout",
     "output_type": "stream",
     "text": [
      "{'horribl': 1, 'textur': 2, 'fabric': 3, 'woven': 4, \"ships'\": 5, 'cabl': 6, 'hawser': 7, 'polar': 8, 'wind': 9, 'blow': 10, 'bird': 11, 'prey': 12, 'hover': 13, 'melvil': 14, 'wrote': 15, 'masterpiec': 16, 'one': 17, 'greatest': 18, 'work': 19, 'imagin': 20, 'literari': 21, 'histori': 22, 'part': 23, 'mobi': 24, 'dick': 25, 'stori': 26, 'eerili': 27, 'compel': 28, 'madman': 29, 'pursu': 30, 'unholi': 31, 'war': 32, 'creatur': 33, 'vast': 34, 'danger': 35, 'unknow': 36, 'sea': 37, 'novel': 38, 'adventur': 39, 'encyclopaedia': 40, 'whale': 41, 'lore': 42, 'legend': 43, 'book': 44, 'seen': 45, \"author'\": 46, 'lifelong': 47, 'medit': 48, 'america': 49, 'written': 50, 'wonder': 51, 'redempt': 52, 'humour': 53, 'also': 54, 'profound': 55, 'inquiri': 56, 'charact': 57, 'faith': 58, 'natur': 59, 'percept': 60, 'edit': 61, 'reproduc': 62, 'definit': 63, 'text': 64, 'includ': 65, 'invalu': 66, 'explanatori': 67, 'note': 68, 'along': 69, 'map': 70, 'illustr': 71, 'glossari': 72, 'nautic': 73, 'term': 74, 'name': 75, 'dinah': 76, 'bibl': 77, 'life': 78, 'hint': 79, 'brief': 80, 'violent': 81, 'detour': 82, 'within': 83, 'familiar': 84, 'chapter': 85, 'genesi': 86, 'father': 87, 'jacob': 88, 'dozen': 89, 'son': 90, 'told': 91, \"dinah'\": 92, 'voic': 93, 'reveal': 94, 'tradit': 95, 'turmoil': 96, 'ancient': 97, 'womanhood': 98, 'world': 99, 'red': 100, 'tent': 101, 'begin': 102, 'mother': 103, 'leah': 104, 'rachel': 105, 'zilpah': 106, 'bilhah': 107, 'four': 108, 'wife': 109, 'love': 110, 'give': 111, 'gift': 112, 'sustain': 113, 'hard': 114, 'youth': 115, 'call': 116, 'midwiferi': 117, 'new': 118, 'home': 119, 'foreign': 120, 'land': 121, 'reach': 122, 'remark': 123, 'period': 124, 'earli': 125, 'creat': 126, 'intim': 127, 'connect': 128, 'past': 129, 'deepli': 130, 'affect': 131, 'combin': 132, 'rich': 133, 'storytel': 134, 'valuabl': 135, 'achiev': 136, 'modern': 137, 'fiction': 138, 'view': 139, 'biblic': 140, \"women'\": 141, 'societi': 142, 'harri': 143, 'potter': 144, 'midway': 145, 'train': 146, 'wizard': 147, 'come': 148, 'age': 149, 'want': 150, 'get': 151, 'away': 152, 'pernici': 153, 'dursley': 154, 'go': 155, 'intern': 156, 'quidditch': 157, 'cup': 158, 'hermion': 159, 'ron': 160, 'weasley': 161, 'dream': 162, 'cho': 163, 'chang': 164, 'crush': 165, 'mayb': 166, 'find': 167, 'mysteri': 168, 'event': 169, \"that'\": 170, 'suppos': 171, 'take': 172, 'place': 173, 'hogwart': 174, 'year': 175, 'involv': 176, 'two': 177, 'rival': 178, 'school': 179, 'magic': 180, 'competit': 181, 'happen': 182, 'hundr': 183, 'normal': 184, 'fourteen': 185, 'old': 186, 'unfortun': 187, \"he'\": 188, 'even': 189, 'standard': 190, 'case': 191, 'differ': 192, 'deadli': 193, 'set': 194, 'south': 195, 'carolina': 196, '1964': 197, 'secret': 198, 'bee': 199, 'tell': 200, 'lili': 201, 'owen': 202, 'whose': 203, 'shape': 204, 'around': 205, 'blur': 206, 'memori': 207, 'afternoon': 208, 'kill': 209, \"lily'\": 210, 'fierc': 211, 'heart': 212, 'black': 213, 'stand': 214, 'rosaleen': 215, 'insult': 216, 'three': 217, 'deepest': 218, 'racist': 219, 'town': 220, 'decid': 221, 'spring': 222, 'free': 223, 'escap': 224, 'tiburon': 225, 'hold': 226, \"mother'\": 227, 'taken': 228, 'eccentr': 229, 'trio': 230, 'beekeep': 231, 'sister': 232, 'introduc': 233, 'mesmer': 234, 'honey': 235, 'madonna': 236, 'divin': 237, 'femal': 238, 'power': 239, 'woman': 240, 'share': 241, 'pa': 242, 'daughter': 243, 'time': 244, 'shadowhunt': 245, 'bare': 246, 'win': 247, 'fight': 248, 'forc': 249, 'dark': 250, 'battl': 251, 'cours': 252, 'forev': 253, 'welcom': 254, 'infern': 255, 'devic': 256, 'trilog': 257, 'stun': 258, 'prequel': 259, 'york': 260, 'bestsel': 261, 'mortal': 262, 'instrument': 263, 'seri': 264, '1878': 265, 'tessa': 266, 'gray': 267, 'descend': 268, 'london': 269, 'supernatur': 270, 'underworld': 271, 'search': 272, 'miss': 273, 'brother': 274, 'soon': 275, 'discov': 276, 'alli': 277, 'demon': 278, 'slay': 279, 'jem': 280, 'boy': 281, 'attract': 282, 'pandemonium': 283, 'club': 284, 'organ': 285, 'vampir': 286, 'warlock': 287, 'human': 288, 'equip': 289, 'armi': 290, 'unstopp': 291, 'clockwork': 292, 'rule': 293, 'british': 294, 'empir': 295, 'stop': 296, 'voldemort': 297, 'well': 298, 'muggl': 299, 'govern': 300, 'notic': 301, 'scan': 302, 'obituari': 303, 'page': 304, 'daili': 305, 'prophet': 306, 'look': 307, 'dumbledor': 308, 'absent': 309, 'long': 310, 'stretch': 311, 'order': 312, 'phoenix': 313, 'alreadi': 314, 'suffer': 315, 'loss': 316, 'yet': 317, 'twin': 318, 'expand': 319, 'busi': 320, 'sixth': 321, 'student': 322, 'learn': 323, 'appar': 324, 'lose': 325, 'eyebrow': 326, 'process': 327, 'teenag': 328, 'flirt': 329, 'fall': 330, 'class': 331, 'never': 332, 'straightforward': 333, 'receiv': 334, 'extraordinari': 335, 'help': 336, 'half': 337, 'blood': 338, 'princ': 339, 'front': 340, 'center': 341, 'stage': 342, 'multilay': 343, 'instal': 344, 'full': 345, 'complet': 346, 'becam': 347, 'lord': 348, 'therebi': 349, 'may': 350, 'vulner': 351, 'first': 352, 'ten': 353, 'curiou': 354, 'assort': 355, 'stranger': 356, 'summon': 357, 'weekend': 358, 'guest': 359, 'littl': 360, 'privat': 361, 'island': 362, 'coast': 363, 'devon': 364, 'host': 365, 'millionair': 366, 'unknown': 367, 'nowher': 368, 'found': 369, 'common': 370, 'wick': 371, \"they'r\": 372, 'unwil': 373, 'seal': 374, 'fate': 375, 'mark': 376, 'murder': 377, 'famou': 378, 'nurseri': 379, 'rhyme': 380, 'frame': 381, 'hung': 382, 'everi': 383, 'room': 384, 'mansion': 385, 'went': 386, 'dine': 387, 'choke': 388, 'self': 389, 'nine': 390, 'sat': 391, 'late': 392, 'overslept': 393, 'eight': 394, 'travel': 395, 'said': 396, \"he'd\": 397, 'stay': 398, 'seven': 399, 'chop': 400, 'stick': 401, 'six': 402, 'play': 403, 'hive': 404, 'bumblebe': 405, 'stung': 406, 'five': 407, 'law': 408, 'got': 409, 'chanceri': 410, 'her': 411, 'swallow': 412, 'walk': 413, 'zoo': 414, 'big': 415, 'bear': 416, 'hug': 417, 'sit': 418, 'sun': 419, 'frizzl': 420, 'left': 421, 'alon': 422, 'hang': 423, 'none': 424, 'realiz': 425, 'occur': 426, 'describ': 427, 'terror': 428, 'mount': 429, 'choreograph': 430, 'dastardli': 431, 'scheme': 432, 'tale': 433, 'dead': 434, 'suspicion': 435, 'middlesex': 436, 'breathtak': 437, 'calliop': 438, 'stephanid': 439, 'gener': 440, 'greek': 441, 'american': 442, 'famili': 443, 'tini': 444, 'villag': 445, 'overlook': 446, 'olympu': 447, 'asia': 448, 'minor': 449, 'prohibit': 450, 'era': 451, 'detroit': 452, 'wit': 453, 'glori': 454, 'day': 455, 'motor': 456, 'citi': 457, 'race': 458, 'riot': 459, '1967': 460, 'move': 461, 'tree': 462, 'line': 463, 'street': 464, 'suburban': 465, 'gross': 466, 'point': 467, 'michigan': 468, 'understand': 469, 'like': 470, 'girl': 471, 'uncov': 472, 'guilti': 473, 'astonish': 474, 'genet': 475, 'turn': 476, 'calli': 477, 'cal': 478, 'audaci': 479, 'wondrou': 480, 'narrat': 481, 'contemporari': 482, 'lyric': 483, 'thrill': 484, 'exhilar': 485, 'reinvent': 486, 'epic': 487, 'ordinari': 488, 'man': 489, 'unwittingli': 490, 'drawn': 491, 'senseless': 492, 'algerian': 493, 'beach': 494, 'camu': 495, 'explor': 496, 'naked': 497, 'face': 498, 'absurd': 499, 'publish': 500, 'english': 501, '1946': 502, 'translat': 503, 'matthew': 504, 'ward': 505, 'annot': 506, 'mikhail': 507, \"bulgakov'\": 508, 'comic': 509, 'revis': 510, 'faust': 511, 'pontiu': 512, 'pilat': 513, 'master': 514, 'margarita': 515, 'recogn': 516, 'essenti': 517, 'classic': 518, 'russian': 519, 'literatur': 520, \"novel'\": 521, 'vision': 522, 'soviet': 523, '1930': 524, 'feroci': 525, 'accur': 526, 'could': 527, 'lifetim': 528, 'appear': 529, 'censor': 530, '1960': 531, 'truth': 532, 'endur': 533, 'languag': 534, 'becom': 535, 'speech': 536, 'hot': 537, 'devil': 538, 'arriv': 539, 'moscow': 540, 'accompani': 541, 'retinu': 542, 'beauti': 543, 'nake': 544, 'witch': 545, 'immens': 546, 'talk': 547, 'cat': 548, 'fond': 549, 'chess': 550, 'vodka': 551, 'visitor': 552, 'quickli': 553, 'wreak': 554, 'havoc': 555, 'refus': 556, 'believ': 557, 'either': 558, 'god': 559, 'satan': 560, 'bring': 561, 'peac': 562, 'unhappi': 563, 'muscovit': 564, 'writer': 565, 'pillori': 566, 'dare': 567, 'write': 568, 'christ': 569, 'will': 570, 'liter': 571, 'hell': 572, 'ensu': 573, 'inexhaust': 574, 'energi': 575, 'humor': 576, 'philosoph': 577, 'depth': 578, 'nuanc': 579, 'emerg': 580, 'diana': 581, \"burgin'\": 582, 'katherin': 583, 'tiernan': 584, \"o'connor'\": 585, 'splendid': 586, 'version': 587, 'back': 588, 'cover': 589, \"kvothe'\": 590, 'young': 591, 'grow': 592, 'notori': 593, 'ever': 594, 'narr': 595, 'childhood': 596, 'troup': 597, 'player': 598, 'spent': 599, 'near': 600, 'feral': 601, 'orphan': 602, 'crime': 603, 'ridden': 604, 'daringli': 605, 'brazen': 606, 'success': 607, 'bid': 608, 'enter': 609, 'legendari': 610, 'fugit': 611, 'king': 612, 'form': 613, 'grip': 614, 'unriv': 615, 'recent': 616, 'high': 617, 'action': 618, \"poet'\": 619, 'hand': 620, 'transport': 621, 'reader': 622, 'bodi': 623, 'mind': 624, 'jack': 625, \"torrance'\": 626, 'job': 627, 'hotel': 628, 'perfect': 629, 'chanc': 630, 'fresh': 631, 'start': 632, 'season': 633, 'caretak': 634, 'atmospher': 635, \"he'll\": 636, 'plenti': 637, 'spend': 638, 'reconnect': 639, 'harsh': 640, 'winter': 641, 'weather': 642, 'idyl': 643, 'locat': 644, 'feel': 645, 'remot': 646, 'sinist': 647, 'strang': 648, 'terribl': 649, 'gather': 650, 'danni': 651, 'torranc': 652, 'uniqu': 653, 'tom': 654, 'sawyer': 655, 'revolv': 656, 'schoolboy': 657, 'protagonist': 658, 'thoma': 659, 'reput': 660, 'preced': 661, 'caus': 662, 'mischief': 663, 'strife': 664, 'aunt': 665, 'polli': 666, 'sid': 667, 'cousin': 668, 'mari': 669, 'quaint': 670, 'st': 671, 'petersburg': 672, 'shore': 673, 'mississippi': 674, 'river': 675, 'typic': 676, 'small': 677, 'christian': 678, 'predomin': 679, 'social': 680, 'network': 681, 'close': 682, 'knit': 683, 'resid': 684, 'unlik': 685, 'lick': 686, 'maker': 687, 'would': 688, 'rather': 689, 'hooki': 690, 'attend': 691, 'often': 692, 'sneak': 693, 'bedroom': 694, 'window': 695, 'night': 696, 'friend': 697, 'huckleberri': 698, 'finn': 699, \"town'\": 700, 'outcast': 701, 'despit': 702, 'dread': 703, 'extrem': 704, 'clever': 705, 'prank': 706, 'tattl': 707, 'punish': 708, 'skip': 709, 'swim': 710, 'assign': 711, 'chore': 712, 'whitewash': 713, 'fenc': 714, 'surround': 715, 'hous': 716, 'brilliant': 717, 'abl': 718, 'con': 719, 'neighborhood': 720, 'manag': 721, 'convinc': 722, 'joy': 723, 'equal': 724, 'flamboy': 725, 'attent': 726, 'chase': 727, 'yell': 728, 'run': 729, 'usual': 730, 'antic': 731, 'attempt': 732, 'catch': 733, 'eye': 734, 'becki': 735, 'thatcher': 736, 'persuad': 737, 'engag': 738, 'kiss': 739, 'romanc': 740, 'collaps': 741, 'previous': 742, 'ami': 743, 'lawrenc': 744, 'shortli': 745, 'shun': 746, 'graveyard': 747, 'dr': 748, 'robinson': 749, 'excerpt': 750, 'answer': 751, \"what'\": 752, 'gone': 753, 'ladi': 754, 'pull': 755, 'spectacl': 756, 'put': 757, 'seldom': 758, 'thing': 759, 'state': 760, 'pair': 761, 'pride': 762, 'built': 763, 'style': 764, 'servic': 765, 'stove': 766, 'lid': 767, 'perplex': 768, 'moment': 769, 'still': 770, 'loud': 771, 'enough': 772, 'furnitur': 773, 'hear': 774, 'lay': 775, \"i'll\": 776, 'finish': 777, 'bend': 778, 'punch': 779, 'bed': 780, 'broom': 781, 'need': 782, 'breath': 783, 'punctuat': 784, 'resurrect': 785, 'noth': 786, 'see': 787, 'beat': 788, 'altern': 789, 'isbn': 790, '9780375826696': 791, 'dragon': 792, 'eragon': 793, 'polish': 794, 'blue': 795, 'stone': 796, 'forest': 797, 'think': 798, 'lucki': 799, 'discoveri': 800, 'poor': 801, 'farm': 802, 'perhap': 803, 'buy': 804, 'meat': 805, 'hatchl': 806, 'stumbl': 807, 'upon': 808, 'legaci': 809, 'nearli': 810, 'overnight': 811, 'simpl': 812, 'shatter': 813, 'thrust': 814, 'peril': 815, 'destini': 816, 'sword': 817, 'advic': 818, 'guidanc': 819, 'fledgl': 820, 'must': 821, 'navig': 822, 'terrain': 823, 'enemi': 824, 'evil': 825, 'know': 826, 'bound': 827, 'mantl': 828, 'rider': 829, 'rest': 830, 'charli': 831, \"bucket'\": 832, 'mr': 833, 'willi': 834, \"wonka'\": 835, 'preciou': 836, 'golden': 837, 'ticket': 838, 'whole': 839, 'insid': 840, 'chocol': 841, 'factori': 842, 'surpris': 843, 'store': 844, 'mental': 845, 'disabl': 846, 'experiment': 847, 'quest': 848, 'intellig': 849, 'mirror': 850, 'algernon': 851, 'lab': 852, 'mous': 853, 'diari': 854, 'entri': 855, 'brain': 856, 'oper': 857, 'increas': 858, 'iq': 859, 'procedur': 860, 'effect': 861, \"charlie'\": 862, 'surpass': 863, 'doctor': 864, 'engin': 865, 'metamorphosi': 866, 'experi': 867, 'seem': 868, 'scientif': 869, 'breakthrough': 870, 'paramount': 871, 'import': 872, 'sudden': 873, 'unexpect': 874, 'deterior': 875, 'quintessenti': 876, 'road': 877, 'chronicl': 878, \"kerouac'\": 879, 'n': 880, 'contin': 881, 'neal': 882, 'cassadi': 883, 'sideburn': 884, 'hero': 885, 'snowi': 886, 'west': 887, 'sal': 888, 'paradis': 889, 'dean': 890, 'moriarti': 891, 'roam': 892, 'countri': 893, 'knowledg': 894, 'compass': 895, 'sens': 896, 'jazz': 897, 'make': 898, 'inspir': 899, 'last': 900, 'freedom': 901, 'defin': 902, 'meant': 903, 'sinc': 904, 'initi': 905, 'public': 906, '0553213695': 907, '9780553213690': 908, 'gregor': 909, 'samsa': 910, 'awok': 911, 'morn': 912, 'uneasi': 913, 'transform': 914, 'gigant': 915, 'insect': 916, 'armor': 917, 'plate': 918, 'lift': 919, 'head': 920, 'domelik': 921, 'brown': 922, 'belli': 923, 'divid': 924, 'stiff': 925, 'arch': 926, 'segment': 927, 'top': 928, 'quilt': 929, 'hardli': 930, 'keep': 931, 'posit': 932, 'slide': 933, 'numer': 934, 'leg': 935, 'piti': 936, 'thin': 937, 'compar': 938, 'bulk': 939, 'wave': 940, 'helplessli': 941, 'startl': 942, 'bizarr': 943, 'surprisingli': 944, 'funni': 945, 'open': 946, 'kafka': 947, 'giant': 948, 'beetl': 949, 'object': 950, 'disgrac': 951, 'outsid': 952, 'alien': 953, 'harrow': 954, 'though': 955, 'absurdli': 956, 'inadequaci': 957, 'guilt': 958, 'isol': 959, 'wide': 960, 'read': 961, 'influenti': 962, 'twentieth': 963, 'centuri': 964, 'w': 965, 'h': 966, 'auden': 967, 'u': 968, 'predica': 969, 'mile': 970, 'pudg': 971, 'halter': 972, 'done': 973, 'safe': 974, 'non': 975, 'obsess': 976, 'word': 977, 'made': 978, 'crave': 979, 'great': 980, 'francoi': 981, 'rabelai': 982, 'poet': 983, 'sometim': 984, 'crazi': 985, 'anyth': 986, 'bore': 987, 'culver': 988, 'creek': 989, 'board': 990, 'opposit': 991, 'hall': 992, 'alaska': 993, 'gorgeou': 994, 'sexi': 995, 'destruct': 996, 'screw': 997, 'utterli': 998, 'fascin': 999, 'unto': 1000, 'launch': 1001, 'steal': 1002, 'barcelona': 1003, '1945': 1004, 'slowli': 1005, 'heal': 1006, 'wound': 1007, 'daniel': 1008, 'antiquarian': 1009, \"dealer'\": 1010, 'mourn': 1011, 'solac': 1012, 'entitl': 1013, 'shadow': 1014, 'julian': 1015, 'carax': 1016, 'shock': 1017, 'someon': 1018, 'systemat': 1019, 'destroy': 1020, 'copi': 1021, 'fact': 1022, \"carax'\": 1023, 'exist': 1024, \"daniel'\": 1025, 'seemingli': 1026, 'innoc': 1027, 'door': 1028, \"barcelona'\": 1029, 'darkest': 1030, 'mad': 1031, 'doom': 1032, 'christoph': 1033, 'john': 1034, 'franci': 1035, 'boon': 1036, 'capit': 1037, 'prime': 1038, 'number': 1039, '7': 1040, '057': 1041, 'relat': 1042, 'anim': 1043, 'emot': 1044, 'cannot': 1045, 'touch': 1046, 'detest': 1047, 'color': 1048, 'yellow': 1049, 'although': 1050, 'superbl': 1051, 'logic': 1052, 'fifteen': 1053, 'everyday': 1054, 'interact': 1055, 'admonish': 1056, 'mean': 1057, 'pattern': 1058, 'diagram': 1059, 'kept': 1060, 'pocket': 1061, \"neighbor'\": 1062, 'dog': 1063, 'wellington': 1064, 'care': 1065, 'construct': 1066, 'univers': 1067, 'threaten': 1068, 'solv': 1069, 'favourit': 1070, 'detect': 1071, 'sherlock': 1072, 'holm': 1073, 'follow': 1074, 'poignant': 1075, 'portray': 1076, 'person': 1077, 'curs': 1078, 'bless': 1079, 'perceiv': 1080, 'entir': 1081, 'sold': 1082, 'somewher': 1083, '30': 1084, 'second': 1085, 'child': 1086, 'grandchild': 1087, 'sunni': 1088, 'sunday': 1089, 'caterpillar': 1090, 'hatch': 1091, 'egg': 1092, 'hungri': 1093, 'monday': 1094, 'ate': 1095, 'appl': 1096, 'tuesday': 1097, 'plum': 1098, 'cocoon': 1099, 'sleep': 1100, 'wake': 1101, 'week': 1102, 'later': 1103, 'butterfli': 1104, 'brilliantli': 1105, 'innov': 1106, 'eric': 1107, 'carl': 1108, 'dramat': 1109, \"nature'\": 1110, 'commonest': 1111, 'loveliest': 1112, 'marvel': 1113, 'audiobook': 1114, 'delight': 1115, 'instruct': 1116, 'youngest': 1117, 'listen': 1118, 'grandpar': 1119, 'teacher': 1120, 'colleagu': 1121, 'older': 1122, 'patient': 1123, 'wise': 1124, 'understood': 1125, 'gave': 1126, 'sound': 1127, 'way': 1128, 'mitch': 1129, 'albom': 1130, 'morri': 1131, 'schwartz': 1132, 'colleg': 1133, 'professor': 1134, 'twenti': 1135, 'ago': 1136, 'lost': 1137, 'track': 1138, 'mentor': 1139, 'insight': 1140, 'fade': 1141, 'ask': 1142, 'bigger': 1143, 'question': 1144, 'haunt': 1145, 'rediscov': 1146, 'month': 1147, \"man'\": 1148, 'die': 1149, 'al': 1150, 'neuron': 1151, 'diseas': 1152, 'visit': 1153, 'studi': 1154, 'use': 1155, 'rekindl': 1156, 'relationship': 1157, 'final': 1158, \"'class'\": 1159, 'lesson': 1160, 'live': 1161, 'unbear': 1162, 'light': 1163, 'milan': 1164, 'kundera': 1165, 'torn': 1166, 'incorrig': 1167, 'mistress': 1168, 'humbl': 1169, 'lover': 1170, 'magnific': 1171, 'juxtapos': 1172, 'geograph': 1173, 'distant': 1174, 'reflect': 1175, 'varieti': 1176, 'major': 1177, 'truli': 1178, '1327': 1179, 'benedictin': 1180, 'wealthi': 1181, 'italian': 1182, 'abbey': 1183, 'suspect': 1184, 'heresi': 1185, 'william': 1186, 'baskervil': 1187, 'investig': 1188, 'delic': 1189, 'mission': 1190, 'suddenli': 1191, 'overshadow': 1192, 'death': 1193, 'tool': 1194, 'aristotl': 1195, 'theolog': 1196, 'aquina': 1197, 'roger': 1198, 'bacon': 1199, 'sharpen': 1200, 'glisten': 1201, 'edg': 1202, 'wri': 1203, 'curios': 1204, 'collect': 1205, 'evid': 1206, 'deciph': 1207, 'symbol': 1208, 'code': 1209, 'manuscript': 1210, 'dig': 1211, 'eeri': 1212, 'labyrinth': 1213, 'interest': 1214, 'summer': 1215, 'hideou': 1216, 'witchcraft': 1217, 'wizardri': 1218, 'pack': 1219, 'bag': 1220, 'warn': 1221, 'impish': 1222, 'say': 1223, 'return': 1224, 'disast': 1225, 'strike': 1226, 'torment': 1227, 'horror': 1228, 'aris': 1229, 'outrag': 1230, 'stuck': 1231, 'spirit': 1232, 'bathroom': 1233, 'real': 1234, 'troubl': 1235, 'draco': 1236, 'malfoy': 1237, 'poison': 1238, 'possibl': 1239, 'hagrid': 1240, 'everyon': 1241, 'threesom': 1242, 'rang': 1243, 'hill': 1244, 'bottom': 1245, 'cheroke': 1246, 'dan': 1247, 'brawn': 1248, 'ann': 1249, 'billi': 1250, 'finest': 1251, 'hunt': 1252, 'team': 1253, 'valley': 1254, 'victori': 1255, 'sad': 1256, 'wait': 1257, 'fern': 1258, 'excit': 1259, 'forget': 1260, 'godfath': 1261, 'betray': 1262, 'global': 1263, 'phenomenon': 1264, 'almost': 1265, 'fifti': 1266, 'born': 1267, 'sear': 1268, 'mafia': 1269, 'corleon': 1270, 'honor': 1271, 'seduct': 1272, 'pitfal': 1273, 'greed': 1274, 'allegi': 1275, 'theme': 1276, 'reson': 1277, 'million': 1278, 'subcultur': 1279, 'steep': 1280, 'intrigu': 1281, 'controversi': 1282, 'remain': 1283, 'indel': 1284, 'etch': 1285, 'conscious': 1286, 'penguin': 1287, 'com': 1288, 'nathaniel': 1289, \"hawthorne'\": 1290, 'scarlet': 1291, 'letter': 1292, \"nation'\": 1293, 'histor': 1294, 'moral': 1295, 'root': 1296, 'materi': 1297, 'tragedi': 1298, 'england': 1299, 'coloni': 1300, 'show': 1301, 'impact': 1302, 'singl': 1303, 'passion': 1304, 'act': 1305, 'member': 1306, 'commun': 1307, 'defiant': 1308, 'hester': 1309, 'prynn': 1310, 'fieri': 1311, 'tortur': 1312, 'reverend': 1313, 'dimmesdal': 1314, 'veng': 1315, 'chillingworth': 1316, 'hawthorn': 1317, 'novelist': 1318, 'forg': 1319, 'puritan': 1320, 'heritag': 1321, \"humanity'\": 1322, 'unend': 1323, 'struggl': 1324, 'sin': 1325, 'novemb': 1326, '15': 1327, '1959': 1328, 'holcomb': 1329, 'kansa': 1330, 'clutter': 1331, 'savag': 1332, 'blast': 1333, 'shotgun': 1334, 'held': 1335, 'inch': 1336, 'motiv': 1337, 'clue': 1338, 'truman': 1339, 'capot': 1340, 'reconstruct': 1341, 'led': 1342, 'captur': 1343, 'trial': 1344, 'execut': 1345, 'killer': 1346, 'suspens': 1347, 'empathi': 1348, 'amor': 1349, 'perri': 1350, 'smith': 1351, 'hickcock': 1352, 'vividli': 1353, 'shown': 1354, 'reprehens': 1355, 'frighteningli': 1356, 'cold': 1357, 'semin': 1358, 'prose': 1359, 'synthesi': 1360, 'journalist': 1361, 'skill': 1362, 'evoc': 1363, 'author': 1364, 'phenomen': 1365, '1': 1366, 'idea': 1367, 'heaven': 1368, 'eddi': 1369, 'veteran': 1370, 'uninspir': 1371, 'fix': 1372, 'ride': 1373, 'seasid': 1374, 'amus': 1375, 'park': 1376, '83rd': 1377, 'birthday': 1378, 'tragic': 1379, 'accid': 1380, 'tri': 1381, 'save': 1382, 'cart': 1383, 'awak': 1384, 'afterlif': 1385, 'destin': 1386, 'explain': 1387, 'peopl': 1388, 'knew': 1389, 'other': 1390, 'soldier': 1391, \"eddie'\": 1392, 'revisit': 1393, 'earth': 1394, 'illumin': 1395, 'meaningless': 1396, 'behind': 1397, 'etern': 1398, 'chuck': 1399, 'palahniuk': 1400, 'visionari': 1401, 'satirist': 1402, 'estrang': 1403, 'leaf': 1404, 'lacklust': 1405, 'thrall': 1406, 'tyler': 1407, 'durden': 1408, 'enigmat': 1409, 'hour': 1410, 'box': 1411, 'match': 1412, 'basement': 1413, 'bar': 1414, 'men': 1415, 'glorious': 1416, 'origin': 1417, 'expos': 1418, 'core': 1419, 'sacr': 1420, 'oatha': 1421, 'fallen': 1422, 'angela': 1423, 'forbidden': 1424, 'loverom': 1425, 'nora': 1426, \"grey'\": 1427, 'plan': 1428, 'particularli': 1429, 'matter': 1430, 'best': 1431, 'vee': 1432, 'push': 1433, 'patch': 1434, 'easi': 1435, 'smile': 1436, 'draw': 1437, 'better': 1438, 'judgment': 1439, 'terrifi': 1440, 'encount': 1441, \"nora'\": 1442, 'sure': 1443, 'trust': 1444, 'everywher': 1445, 'closest': 1446, \"can't\": 1447, 'whether': 1448, 'arm': 1449, 'hide': 1450, 'seek': 1451, 'unsettl': 1452, 'right': 1453, 'middl': 1454, 'immort': 1455, 'choos': 1456, 'side': 1457, 'wrong': 1458, 'choic': 1459, 'cost': 1460, 'salli': 1461, 'wet': 1462, 'hat': 1463, 'dull': 1464, 'madcap': 1465, 'wreck': 1466, 'seuss': 1467, '1957': 1468, 'respons': 1469, 'concern': 1470, 'pallid': 1471, 'primer': 1472, 'abnorm': 1473, 'courteou': 1474, 'unnatur': 1475, 'clean': 1476, \"girls'\": 1477, 'lead': 1478, 'illiteraci': 1479, 'among': 1480, 'random': 1481, 'beginn': 1482, 'detail': 1483, 'format': 1484, 'hardcov': 1485, 'date': 1486, '3': 1487, '12': 1488, '72': 1489, 'level': 1490, 'thrown': 1491, 'prison': 1492, 'commit': 1493, 'edmond': 1494, 'dant': 1495, 'confin': 1496, 'grim': 1497, 'fortress': 1498, 'hoard': 1499, 'treasur': 1500, 'hidden': 1501, 'isl': 1502, 'mont': 1503, 'cristo': 1504, 'determin': 1505, 'unearth': 1506, 'plot': 1507, 'incarcer': 1508, 'duma': 1509, 'retribut': 1510, 'imprison': 1511, 'huge': 1512, 'popular': 1513, 'serial': 1514, '1840': 1515, 'robin': 1516, 'bu': 1517, 'unabridg': 1518, 'introduct': 1519, 'suggest': 1520, 'releas': 1521, \"shadow'\": 1522, 'laura': 1523, 'dy': 1524, 'car': 1525, 'crash': 1526, 'numbl': 1527, 'plane': 1528, 'wednesday': 1529, 'claim': 1530, 'refuge': 1531, 'former': 1532, 'togeth': 1533, 'embark': 1534, 'profoundli': 1535, 'journey': 1536, 'across': 1537, 'usa': 1538, 'whilst': 1539, 'storm': 1540, 'preternatur': 1541, 'proport': 1542, 'break': 1543, 'scari': 1544, 'soul': 1545, 'prefer': 1546, 'uk': 1547, '000': 1548, 'longer': 1549, 'previou': 1550, 'acclaim': 1551, 'sensat': 1552, 'patrick': 1553, \"suskind'\": 1554, 'provok': 1555, 'examin': 1556, 'indulg': 1557, 'smell': 1558, 'slum': 1559, 'eighteenth': 1560, 'franc': 1561, 'infant': 1562, 'jean': 1563, 'baptist': 1564, 'grenouil': 1565, 'sublim': 1566, 'absolut': 1567, 'odor': 1568, 'pari': 1569, 'apprentic': 1570, 'promin': 1571, 'perfum': 1572, 'teach': 1573, 'art': 1574, 'mix': 1575, 'oil': 1576, 'herb': 1577, \"grenouille'\": 1578, 'geniu': 1579, 'satisfi': 1580, 'brass': 1581, 'doorknob': 1582, 'cut': 1583, 'wood': 1584, 'scent': 1585, 'drive': 1586, 'ultim': 1587, 'virgin': 1588, 'dazzl': 1589, 'brillianc': 1590, 'hauntingli': 1591, 'sensual': 1592, 'deprav': 1593, 'frontier': 1594, 'larri': 1595, 'mcmurtri': 1596, 'pulitz': 1597, 'prize': 1598, 'lonesom': 1599, 'dove': 1600, 'third': 1601, 'tetralog': 1602, 'grandest': 1603, 'wilder': 1604, 'dusti': 1605, 'texa': 1606, 'meet': 1607, 'unforgett': 1608, 'outlaw': 1609, 'whore': 1610, 'indian': 1611, 'settler': 1612, 'richli': 1613, 'authent': 1614, 'alway': 1615, 'laugh': 1616, 'weep': 1617, 'rememb': 1618, 'stanley': 1619, 'yelnat': 1620, 'began': 1621, 'good': 1622, 'dirti': 1623, 'rotten': 1624, 'pig': 1625, 'grandfath': 1626, 'unjustli': 1627, 'sent': 1628, 'detent': 1629, 'camp': 1630, 'green': 1631, 'lake': 1632, 'build': 1633, 'hole': 1634, 'exactli': 1635, 'foot': 1636, 'deep': 1637, 'aw': 1638, 'lot': 1639, 'improv': 1640, 'warden': 1641, 'someth': 1642, 'buri': 1643, 'dri': 1644, 'invent': 1645, 'darkli': 1646, 'narnia': 1647, 'beyond': 1648, 'wardrob': 1649, 'frozen': 1650, 'luci': 1651, \"professor'\": 1652, 'edmund': 1653, 'peter': 1654, 'susan': 1655, 'step': 1656, 'enchant': 1657, 'white': 1658, 'lion': 1659, 'aslan': 1660, \"they'v\": 1661, 'brave': 1662, 'join': 1663, \"witch'\": 1664, 'spell': 1665, 'prepar': 1666, 'titan': 1667, 'odd': 1668, \"kronos'\": 1669, 'stronger': 1670, 'recruit': 1671, \"titan'\": 1672, 'olympian': 1673, 'contain': 1674, 'rampag': 1675, 'monster': 1676, 'typhon': 1677, 'krono': 1678, 'advanc': 1679, 'virtual': 1680, 'unguard': 1681, 'perci': 1682, 'jackson': 1683, 'demigod': 1684, 'sell': 1685, 'await': 1686, 'propheci': 1687, \"percy'\": 1688, 'sixteenth': 1689, 'unfold': 1690, 'western': 1691, 'civil': 1692, 'rage': 1693, 'manhattan': 1694, 'hugo': 1695, 'award': 1696, 'graphic': 1697, 'grace': 1698, 'group': 1699, 'super': 1700, 'plagu': 1701, 'fail': 1702, 'concept': 1703, 'dissect': 1704, 'stalk': 1705, 'assassin': 1706, 'perenni': 1707, 'seller': 1708, 'watchman': 1709, 'campu': 1710, 'nation': 1711, 'consid': 1712, 'gateway': 1713, 'titl': 1714, 'v': 1715, 'vendetta': 1716, 'batman': 1717, 'knight': 1718, 'sandman': 1719, 'derri': 1720, 'main': 1721, 'hometown': 1722, 'grown': 1723, 'gain': 1724, 'happi': 1725, 'withstand': 1726, 'nightmar': 1727, 'without': 1728, 'end': 1729, 'paperback': 1730, 'featur': 1731, 'artwork': 1732, 'garth': 1733, 'timeless': 1734, 'pioneer': 1735, 'cherish': 1736, 'offer': 1737, 'glimps': 1738, 'heartwarm': 1739, 'woodsmeet': 1740, 'ingal': 1741, 'babi': 1742, 'carri': 1743, 'cozi': 1744, 'log': 1745, 'cabin': 1746, 'wisconsin': 1747, '1870': 1748, 'mani': 1749, 'neighbor': 1750, 'wolf': 1751, 'panther': 1752, 'thank': 1753, 'homemad': 1754, 'chees': 1755, 'butter': 1756, 'fiddl': 1757, 'farmer': 1758, 'boya': 1759, 'almanzo': 1760, 'dawn': 1761, 'supper': 1762, 'wish': 1763, 'hors': 1764, 'prove': 1765, 'readi': 1766, 'prairiewhen': 1767, 'prairi': 1768, 'promis': 1769, 'bank': 1770, 'creekth': 1771, 'sod': 1772, 'besid': 1773, 'minnesota': 1774, 'saw': 1775, 'lumber': 1776, 'money': 1777, 'wheat': 1778, 'crop': 1779, 'harvest': 1780, 'glitter': 1781, 'cloud': 1782, 'fill': 1783, 'sky': 1784, 'block': 1785, 'grasshopp': 1786, 'field': 1787, 'everyth': 1788, 'silver': 1789, 'lakepa': 1790, 'dakota': 1791, 'territori': 1792, 'de': 1793, 'smet': 1794, 'brand': 1795, 'winterth': 1796, 'barren': 1797, 'octob': 1798, 'snow': 1799, 'april': 1800, 'pile': 1801, 'rooftop': 1802, 'imposs': 1803, 'deliv': 1804, 'suppli': 1805, 'townspeopl': 1806, 'starv': 1807, 'settl': 1808, 'risk': 1809, 'prairied': 1810, 'rejuven': 1811, 'addit': 1812, 'parti': 1813, 'continu': 1814, 'sew': 1815, 'shirt': 1816, 'send': 1817, 'blind': 1818, 'caller': 1819, 'yearslaura': 1820, 'earn': 1821, 'friday': 1822, 'pick': 1823, 'offici': 1824, 'court': 1825, 'marri': 1826, 'homestead': 1827, 'challeng': 1828, 'sick': 1829, 'fire': 1830, 'unpaid': 1831, 'debt': 1832, 'courag': 1833, 'strength': 1834, 'deal': 1835, 'rose': 1836, 'comedi': 1837, \"dante'\": 1838, 'descent': 1839, 'virgil': 1840, 'guid': 1841, 'ascent': 1842, 'purgatori': 1843, 'beatric': 1844, 'desir': 1845, 'enlighten': 1846, 'poem': 1847, 'allegori': 1848, 'alighieri': 1849, 'florenc': 1850, '1265': 1851, 'belong': 1852, 'nobl': 1853, 'impoverish': 1854, 'polit': 1855, 'duti': 1856, 'poetri': 1857, 'bice': 1858, 'portinari': 1859, 'la': 1860, 'vita': 1861, 'nuova': 1862, 'ravenna': 1863, '1321': 1864, 'pan': 1865, 'j': 1866, 'barri': 1867, 'mischiev': 1868, \"darling'\": 1869, 'proper': 1870, 'befriend': 1871, 'wendi': 1872, 'michael': 1873, 'fli': 1874, 'fairi': 1875, 'dust': 1876, 'tinker': 1877, 'bell': 1878, 'whisk': 1879, 'pirat': 1880, 'captain': 1881, 'hook': 1882, '1914': 1883, 'german': 1884, 'idealist': 1885, 'goad': 1886, 'schoolmast': 1887, 'troop': 1888, 'gloriou': 1889, 'patriot': 1890, 'sign': 1891, 'experienc': 1892, 'disillusion': 1893, 'trench': 1894, 'ground': 1895, 'hobbit': 1896, 'nasti': 1897, 'worm': 1898, 'oozi': 1899, 'sandi': 1900, 'eat': 1901, 'comfort': 1902, 'r': 1903, 'tolkien': 1904, 'met': 1905, 'instant': 1906, 'critic': 1907, '1937': 1908, 'bilbo': 1909, 'baggin': 1910, 'gandalf': 1911, 'gollum': 1912, 'spectacular': 1913, 'recount': 1914, 'reluct': 1915, 'ring': 1916, 'cruel': 1917, 'smaug': 1918, '372': 1919, 'base': 1920, 'britain': 1921, 'collin': 1922, '1998': 1923, 'dougla': 1924, 'anderson': 1925, '2001': 1926, 'shakespear': 1927, 'abridg': 1928, 'qualif': 1929, 'worth': 1930, 'speak': 1931, 'playtext': 1932, 'footnot': 1933, 'anyon': 1934, 'queen': 1935, 'florentino': 1936, 'ariza': 1937, 'fermina': 1938, 'daza': 1939, 'eventu': 1940, 'heartbroken': 1941, 'romant': 1942, 'rise': 1943, 'career': 1944, 'while': 1945, '622': 1946, 'affair': 1947, 'reserv': 1948, 'husband': 1949, 'purpos': 1950, 'funer': 1951, 'declar': 1952, 'lissa': 1953, 'dragomir': 1954, 'moroi': 1955, 'princess': 1956, 'rare': 1957, 'har': 1958, \"earth'\": 1959, 'protect': 1960, 'strigoi': 1961, 'fiercest': 1962, 'blend': 1963, 'flow': 1964, 'hathaway': 1965, \"lissa'\": 1966, 'dhampir': 1967, 'dedic': 1968, 'bent': 1969, 'anoth': 1970, 'guardian': 1971, 'dimitri': 1972, 'belikov': 1973, 'broken': 1974, \"rose'\": 1975, 'ghostli': 1976, 'nearer': 1977, \"academy'\": 1978, 'iron': 1979, 'gate': 1980, 'undead': 1981, 'vengeanc': 1982, 'stolen': 1983, 'worst': 1984, 'surviv': 1985, 'consequ': 1986, 'unrest': 1987, 'surg': 1988, 'faction': 1989, 'prior': 1990, 'grappl': 1991, 'grief': 1992, 'forgiv': 1993, 'ident': 1994, 'loyalti': 1995, \"tris'\": 1996, 'celebr': 1997, 'chosen': 1998, 'instead': 1999, 'unspeak': 2000, 'loom': 2001, 'conflict': 2002, 'ideolog': 2003, 'irrevoc': 2004, 'decis': 2005, 'radic': 2006, 'shift': 2007, 'fulli': 2008, 'embrac': 2009, 'diverg': 2010, 'veronica': 2011, \"roth'\": 2012, 'much': 2013, 'anticip': 2014, 'dystopian': 2015, 'intox': 2016, 'hallmark': 2017, 'twist': 2018, 'heartbreak': 2019, '0380018179': 2020, 'isbn13': 2021, '9780380018178': 2022, 'thorn': 2023, 'robust': 2024, 'saga': 2025, 'singular': 2026, 'cleari': 2027, 'paddi': 2028, 'fiona': 2029, 'drogheda': 2030, 'australian': 2031, 'sheep': 2032, 'station': 2033, 'own': 2034, 'autocrat': 2035, 'childless': 2036, 'survivor': 2037, 'actress': 2038, 'justin': 2039, \"o'neil\": 2040, 'halfway': 2041, 'central': 2042, 'figur': 2043, 'enthral': 2044, 'indomit': 2045, 'meggi': 2046, 'stunningli': 2047, 'handsom': 2048, 'ambiti': 2049, 'priest': 2050, 'ralph': 2051, 'bricassart': 2052, \"ralph'\": 2053, 'inde': 2054, 'outback': 2055, 'parish': 2056, 'vatican': 2057, \"meggie'\": 2058, 'except': 2059, 'miser': 2060, 'marriag': 2061, 'elsewher': 2062, 'bone': 2063, 'distanc': 2064, 'dim': 2065, 'strong': 2066, 'gentl': 2067, 'frank': 2068, 'hardwork': 2069, 'boundless': 2070, 'devot': 2071, 'dane': 2072, 'stark': 2073, 'relentless': 2074, 'demand': 2075, 'flower': 2076, 'cycl': 2077, 'drought': 2078, 'flood': 2079, 'bounti': 2080, 'surreal': 2081, 'jacket': 2082, 'sweeter': 2083, 'beaufort': 2084, 'north': 2085, 'wore': 2086, 'dress': 2087, 'don': 2088, 'seventeen': 2089, 'mingl': 2090, 'lilac': 2091, 'landon': 2092, 'carter': 2093, '1958': 2094, 'swore': 2095, 'certainli': 2096, 'thought': 2097, 'jami': 2098, 'sullivan': 2099, 'minist': 2100, 'quiet': 2101, 'schoolbook': 2102, 'content': 2103, 'apart': 2104, 'teen': 2105, 'took': 2106, 'widow': 2107, 'rescu': 2108, 'hurt': 2109, 'local': 2110, 'orphanag': 2111, 'partner': 2112, 'homecom': 2113, 'danc': 2114, \"carter'\": 2115, 'manhood': 2116, 'today': 2117, 'nichola': 2118, 'spark': 2119, 'gossam': 2120, 'fragil': 2121, 'notebook': 2122, 'messag': 2123, 'bottl': 2124, 'establish': 2125, \"today'\": 2126, 'glimmer': 2127, 'spellbound': 2128, 'remind': 2129, 'kind': 2130, 'grinch': 2131, 'hate': 2132, 'christma': 2133, 'pleas': 2134, 'quit': 2135, 'reason': 2136, \"seuss'\": 2137, 'rank': 2138, 'scroog': 2139, 'crankiest': 2140, 'scowl': 2141, 'holiday': 2142, 'grump': 2143, '53': 2144, 'cave': 2145, 'mountain': 2146, 'who': 2147, 'whovil': 2148, 'noisi': 2149, 'sing': 2150, 'citizen': 2151, 'annoy': 2152, 'frivol': 2153, 'merriment': 2154, 'santa': 2155, 'outfit': 2156, 'strap': 2157, 'heavi': 2158, 'antler': 2159, 'quiver': 2160, 'max': 2161, 'makeshift': 2162, 'sleigh': 2163, 'strip': 2164, 'chafingli': 2165, 'cheer': 2166, 'yuletid': 2167, 'glee': 2168, 'disturb': 2169, 'slither': 2170, 'chimney': 2171, 'empti': 2172, \"whos'\": 2173, 'present': 2174, 'food': 2175, 'ramshackl': 2176, 'mt': 2177, 'crumpit': 2178, 'dump': 2179, 'sob': 2180, 'trap': 2181, 'disappear': 2182, 'dismay': 2183, 'do': 2184, 'anti': 2185, 'guis': 2186, 'simultan': 2187, 'ador': 2188, 'fear': 2189, 'triumphant': 2190, 'seussian': 2191, 'testimoni': 2192, 'undaunt': 2193, 'transcend': 2194, 'growth': 2195, 'potenti': 2196, 'size': 2197, 'aloud': 2198, 'favorit': 2199, 'volum': 2200, \"adams'\": 2201, 'hitchhik': 2202, \"hitchhiker'\": 2203, 'galaxi': 2204, 'demolish': 2205, 'galact': 2206, 'freeway': 2207, 'arthur': 2208, 'dent': 2209, 'ford': 2210, 'prefect': 2211, 'research': 2212, 'thumb': 2213, 'star': 2214, 'wild': 2215, 'space': 2216, 'restaur': 2217, 'annihil': 2218, 'warmong': 2219, 'tea': 2220, 'cosmic': 2221, 'displac': 2222, 'comrad': 2223, 'hurtl': 2224, 'desper': 2225, 'inhabit': 2226, 'planet': 2227, 'krikkit': 2228, 'individu': 2229, 'avert': 2230, 'armageddon': 2231, 'mild': 2232, 'manner': 2233, 'stalwart': 2234, 'crew': 2235, 'fish': 2236, 'figment': 2237, 'stress': 2238, 'wrap': 2239, 'fishbowl': 2240, 'cryptic': 2241, 'inscript': 2242, 'conspir': 2243, 'realiti': 2244, 'mostli': 2245, 'harmless': 2246, 'mistak': 2247, 'enjoy': 2248, 'loos': 2249, 'total': 2250, 'obliter': 2251, 'hostil': 2252, 'takeov': 2253, 'short': 2254, 'zaphod': 2255, \"writer'\": 2256, 'irresist': 2257, 'candid': 2258, 'eloqu': 2259, 'account': 2260, 'pursuit': 2261, 'worldli': 2262, 'pleasur': 2263, 'spiritu': 2264, 'realli': 2265, 'elizabeth': 2266, 'gilbert': 2267, 'thirti': 2268, 'onslaught': 2269, 'midlif': 2270, 'crisi': 2271, 'educ': 2272, 'fulfil': 2273, 'consum': 2274, 'panic': 2275, 'confus': 2276, 'divorc': 2277, 'depress': 2278, 'erad': 2279, 'recov': 2280, 'rid': 2281, 'undertook': 2282, 'yearlong': 2283, 'pray': 2284, 'absorb': 2285, 'aim': 2286, 'aspect': 2287, 'backdrop': 2288, 'cultur': 2289, 'rome': 2290, 'happiest': 2291, 'pound': 2292, 'india': 2293, 'nativ': 2294, 'guru': 2295, 'cowboy': 2296, 'uninterrupt': 2297, 'bali': 2298, 'balanc': 2299, 'pupil': 2300, 'elderli': 2301, 'medicin': 2302, 'fell': 2303, 'unexpectedli': 2304, 'intens': 2305, 'articul': 2306, 'memoir': 2307, 'imit': 2308, 'ideal': 2309, 'certain': 2310, 'woken': 2311, 'unrel': 2312, 'ian': 2313, 'mcewan': 2314, 'symphon': 2315, 'provid': 2316, 'satisfact': 2317, 'provoc': 2318, 'expect': 2319, '1935': 2320, 'thirteen': 2321, 'brioni': 2322, 'talli': 2323, 'flirtat': 2324, 'cecilia': 2325, 'robbi': 2326, 'turner': 2327, 'servant': 2328, 'incomplet': 2329, 'grasp': 2330, 'adult': 2331, 'motif': 2332, 'precoci': 2333, 'repercuss': 2334, 'aton': 2335, 'chao': 2336, 'carnag': 2337, 'ii': 2338, 'oscar': 2339, \"wilde'\": 2340, 'farc': 2341, 'mistaken': 2342, 'entangl': 2343, '1895': 2344, 'premier': 2345, 'perform': 2346, 'rapid': 2347, 'earnest': 2348, 'mainstay': 2349, 'curriculum': 2350, 'decad': 2351, 'cecili': 2352, 'cardew': 2353, 'gwendolen': 2354, 'fairfax': 2355, 'mythic': 2356, 'suitor': 2357, 'woo': 2358, 'ernest': 2359, 'pose': 2360, \"jack'\": 2361, \"ernest'\": 2362, 'undivid': 2363, 'belov': 2364, 'senil': 2365, 'nursemaid': 2366, 'discard': 2367, 'prestwick': 2368, 'touchston': 2369, \"reader'\": 2370, 'appreci': 2371, 'elabor': 2372, 'fair': 2373, 'independ': 2374, 'jani': 2375, 'crawford': 2376, 'feat': 2377, \"'30\": 2378, \"janie'\": 2379, 'alexandr': 2380, 'swashbuckl': 2381, 'chivalri': 2382, 'der': 2383, '1620': 2384, 'popul': 2385, 'unattain': 2386, 'heroin': 2387, 'cavali': 2388, 'crimin': 2389, 'whirl': 2390, 'espionag': 2391, 'conspiraci': 2392, 'scandal': 2393, 'larger': 2394, 'comt': 2395, 'artagnan': 2396, 'impetu': 2397, 'beguilingli': 2398, 'seductress': 2399, 'miladi': 2400, 'deviou': 2401, 'cardin': 2402, 'richelieu': 2403, 'weak': 2404, 'loui': 2405, 'xiii': 2406, 'musket': 2407, 'atho': 2408, 'portho': 2409, 'arami': 2410, 'motto': 2411, 'epitom': 2412, 'friendship': 2413, 'diamond': 2414, 'mask': 2415, 'ball': 2416, 'purloin': 2417, 'bout': 2418, 'swordplay': 2419, 'entertain': 2420, 'dorothi': 2421, 'toto': 2422, 'caught': 2423, 'tornado': 2424, 'farmhous': 2425, 'oz': 2426, 'munchkin': 2427, 'monkey': 2428, 'trail': 2429, 'tin': 2430, 'woodsman': 2431, 'scarecrow': 2432, 'cowardli': 2433, 'fantast': 2434, 'brick': 2435, 'emerald': 2436, 'hope': 2437, 'grant': 2438, 'captiv': 2439, 'jealousi': 2440, 'collid': 2441, 'slope': 2442, 'seriou': 2443, 'guy': 2444, 'tutor': 2445, 'els': 2446, 'mason': 2447, 'boyfriend': 2448, 'nearbi': 2449, 'attack': 2450, \"vladimir'\": 2451, 'alert': 2452, 'academi': 2453, 'mandatori': 2454, 'ski': 2455, 'trip': 2456, 'landscap': 2457, 'posh': 2458, 'idaho': 2459, 'resort': 2460, 'illus': 2461, 'safeti': 2462, 'tuck': 2463, 'bunni': 2464, 'goodnight': 2465, 'moon': 2466, 'softli': 2467, 'lit': 2468, 'pictur': 2469, 'chair': 2470, 'clock': 2471, 'sock': 2472, 'mitten': 2473, 'kitten': 2474, \"children'\": 2475, 'lull': 2476, 'let': 2477, 'predict': 2478, 'sceptic': 2479, 'judgement': 2480, 'apocalyps': 2481, 'due': 2482, 'next': 2483, 'saturday': 2484, 'drown': 2485, 'sorrow': 2486, 'possess': 2487, 'raptur': 2488, 'hoax': 2489, 'aziraphal': 2490, 'somewhat': 2491, 'fussi': 2492, 'angel': 2493, 'crowley': 2494, 'fast': 2495, 'amongst': 2496, 'lifestyl': 2497, 'honesti': 2498, 'actual': 2499, 'forward': 2500, 'misplac': 2501, 'antichrist': 2502, 'unless': 2503, 'lorax': 2504, 'mindless': 2505, 'progress': 2506, 'cautionari': 2507, 'avail': 2508, 'mini': 2509, 'backpack': 2510, 'briefcas': 2511, 'arbor': 2512, '0618260269': 2513, 'copyright': 2514, '0618346252': 2515, 'bind': 2516, 'themin': 2517, 'craft': 2518, 'elven': 2519, 'sauron': 2520, 'sought': 2521, 'throughout': 2522, 'sleepi': 2523, 'shire': 2524, 'frodo': 2525, 'task': 2526, 'entrust': 2527, 'leav': 2528, 'crack': 2529, 'foil': 2530, 'sworn': 2531, 'extent': 2532, 'convers': 2533, \"we'd\": 2534, 'agre': 2535, \"hathaway'\": 2536, 'devast': 2537, 'victim': 2538, 'wors': 2539, 'tattoo': 2540, 'adorn': 2541, 'neck': 2542, 'far': 2543, 'count': 2544, 'path': 2545, \"life'\": 2546, 'vow': 2547, 'drop': 2548, \"she'll\": 2549, 'beg': 2550, 'stake': 2551, 'newli': 2552, 'rebelli': 2553, 'sacrific': 2554, 'fourth': 2555, 'richel': 2556, \"mead'\": 2557, '9780141439594': 2558, 'te': 2559, 'durbeyfield': 2560, 'driven': 2561, 'poverti': 2562, 'kinship': 2563, \"d'urbervil\": 2564, 'portion': 2565, 'fortun': 2566, \"'cousin'\": 2567, 'alec': 2568, 'prof': 2569, 'downfal': 2570, 'clare': 2571, 'salvat': 2572, 'silent': 2573, 'futur': 2574, 'joseph': 2575, 'conrad': 2576, \"blackwood'\": 2577, 'magazin': 2578, '1899': 2579, 'marlow': 2580, 'onboard': 2581, 'anchor': 2582, 'ship': 2583, 'ferri': 2584, 'boat': 2585, 'ivori': 2586, 'downriv': 2587, 'develop': 2588, 'invest': 2589, 'procur': 2590, 'agent': 2591, 'kurtz': 2592, 'employ': 2593, 'emissari': 2594, 'corrupt': 2595, 'european': 2596, 'psych': 2597, 'chines': 2598, 'agrarian': 2599, 'china': 2600, 'wang': 2601, 'lung': 2602, 'soil': 2603, 'nurtur': 2604, 'hwang': 2605, 'worker': 2606, 'flee': 2607, 'merci': 2608, 'reward': 2609, 'cominga': 2610, 'net': 2611, 'tighten': 2612, 'institut': 2613, 'mortmain': 2614, 'pitiless': 2615, 'automaton': 2616, 'item': 2617, 'charlott': 2618, 'branwel': 2619, 'abduct': 2620, 'ralli': 2621, 'clutch': 2622, 'command': 2623, 'tangl': 2624, 'thread': 2625, 'intertwin': 2626, 'brink': 2627, 'conclus': 2628, 'freshman': 2629, 'orient': 2630, 'fun': 2631, 'acquaint': 2632, 'cheerlead': 2633, 'bad': 2634, 'blockbust': 2635, 'minut': 2636, 'invad': 2637, 'impenetr': 2638, 'border': 2639, 'invas': 2640, 'sprawl': 2641, 'underground': 2642, \"shakespeare'\": 2643, 'polygon': 2644, 'complic': 2645, 'demetriu': 2646, 'lysand': 2647, 'hermia': 2648, 'news': 2649, \"hermia'\": 2650, 'helena': 2651, 'unreturn': 2652, 'burn': 2653, 'enrag': 2654, 'enraptur': 2655, 'unbeknownst': 2656, 'oberon': 2657, 'titania': 2658, 'faeri': 2659, 'spat': 2660, \"oberon'\": 2661, 'puck': 2662, 'throw': 2663, 'labour': 2664, \"duke'\": 2665, 'wed': 2666, 'given': 2667, \"donkey'\": 2668, 'kahlil': 2669, 'gibran': 2670, '1923': 2671, 'poetic': 2672, 'essay': 2673, 'muse': 2674, 'topic': 2675, 'drink': 2676, 'cloth': 2677, 'pain': 2678, 'prayer': 2679, 'religion': 2680, 'retold': 2681, 'wield': 2682, 'throne': 2683, 'spellbind': 2684, 'mist': 2685, 'avalon': 2686, 'combat': 2687, 'annabeth': 2688, 'goddess': 2689, 'chain': 2690, 'defeat': 2691, 'doomsday': 2692, 'oh': 2693, 'guess': 2694, 'oracl': 2695, 'heroic': 2696, 'poseidon': 2697, 'comeback': 2698, 'rick': 2699, \"riordan'\": 2700, 'amaz': 2701, 'cliffhang': 2702, 'mytholog': 2703, 'result': 2704, 'true': 2705, 'episod': 2706, 'retriev': 2707, 'fleec': 2708, \"book'\": 2709, 'drama': 2710, 'depend': 2711, \"who'\": 2712, '1949': 2713, 'immigr': 2714, 'san': 2715, 'francisco': 2716, 'weekli': 2717, 'mahjong': 2718, 'unit': 2719, \"daughters'\": 2720, 'luck': 2721, 'heard': 2722, \"mothers'\": 2723, 'irrelev': 2724, 'inner': 2725, 'unknowingli': 2726, 'inherit': 2727, 'sensit': 2728, 'tan': 2729, 'tender': 2730, 'unravel': 2731, 'string': 2732, 'entwin': 2733, 'boast': 2734, 'despair': 2735, 'roll': 2736, 'inextric': 2737, 'matriarch': 2738, 'tie': 2739, 'astut': 2740, 'entic': 2741, 'immers': 2742, 'complex': 2743, 'adapt': 2744, \"alice'\": 2745, 'wonderland': 2746, 'commonli': 2747, 'shorten': 2748, 'alic': 2749, '1865': 2750, 'mathematician': 2751, 'charl': 2752, 'lutwidg': 2753, 'dodgson': 2754, 'pseudonym': 2755, 'lewi': 2756, 'carrol': 2757, 'rabbit': 2758, 'fantasi': 2759, 'peculiar': 2760, 'anthropomorph': 2761, 'exampl': 2762, 'nonsens': 2763, 'genr': 2764, 'structur': 2765, 'imageri': 2766, 'enorm': 2767, 'especi': 2768, '1903': 2769, 'regard': 2770, \"london'\": 2771, 'gold': 2772, 'prospector': 2773, 'canadian': 2774, 'unbreak': 2775, 'alaskan': 2776, 'klondik': 2777, 'special': 2778, \"there'\": 2779, 'jonathan': 2780, 'higher': 2781, 'faster': 2782, 'livingston': 2783, 'seagul': 2784, 'belief': 2785, \"gull'\": 2786, 'younger': 2787, 'gull': 2788, 'flight': 2789, '20th': 2790, 'anniversari': 2791, \"'oh\": 2792, 'dear': 2793, \"'emma\": 2794, 'bovari': 2795, 'mediocr': 2796, 'stifl': 2797, 'banal': 2798, 'provinci': 2799, 'ardent': 2800, 'devour': 2801, 'sentiment': 2802, 'voraci': 2803, 'adulteri': 2804, 'disappoint': 2805, \"flaubert'\": 2806, 'erot': 2807, 'charg': 2808, 'psycholog': 2809, 'acut': 2810, 'emma': 2811, 'outcri': 2812, '1857': 2813, 'deem': 2814, 'lifelik': 2815, 'model': 2816, 'flaubert': 2817, 'insist': 2818, \"'madam\": 2819, \"c'est\": 2820, 'moi': 2821, \"'thi\": 2822, 'biograph': 2823, 'geoffrey': 2824, 'wall': 2825, 'retain': 2826, 'delicaci': 2827, 'precis': 2828, 'french': 2829, 'prefac': 2830, 'michèl': 2831, 'robert': 2832, \"librarian'\": 2833, 'click': 2834, 'hail': 2835, 'warmth': 2836, 'yorker': 2837, 'milo': 2838, 'tollbooth': 2839, 'jump': 2840, 'tick': 2841, 'watchdog': 2842, 'tock': 2843, 'wildest': 2844, 'jess': 2845, \"aarons'\": 2846, 'ambit': 2847, 'fastest': 2848, 'runner': 2849, 'grade': 2850, 'practic': 2851, \"classmates'\": 2852, 'boldli': 2853, 'cross': 2854, \"boys'\": 2855, 'outrun': 2856, 'lesli': 2857, 'burk': 2858, 'insepar': 2859, 'terabithia': 2860, 'kingdom': 2861, 'reign': 2862, 'limit': 2863, 'hunger': 2864, 'game': 2865, 'suzann': 2866, 'mockingjay': 2867, 'boxset': 2868, 'upstart': 2869, 'blessedli': 2870, 'graduat': 2871, 'inimit': 2872, 'vers': 2873, 'address': 2874, 'up': 2875, 'down': 2876, 'encourag': 2877, 'lie': 2878, 'succeed': 2879, 'ye': 2880, '98': 2881, '¾': 2882, 'percent': 2883, 'guarante': 2884, 'eighti': 2885, 'mere': 2886, 'impart': 2887, 'wisdom': 2888, 'maze': 2889, 'grad': 2890, 'mint': 2891, \"phd'\": 2892, 'asin': 2893, 'scare': 2894, 'nice': 2895, 'ya': 2896, 'shank': 2897, 'glade': 2898, 'tower': 2899, 'limitless': 2900, 'aliv': 2901, 'blister': 2902, 'thriller': 2903, 'rivet': 2904, 'polic': 2905, 'pierc': 2906, 'exposé': 2907, 'injustic': 2908, 'endlessli': 2909, 'mikael': 2910, 'blomkvist': 2911, 'crusad': 2912, 'millennium': 2913, 'extens': 2914, 'sex': 2915, 'traffick': 2916, 'eve': 2917, 'report': 2918, 'articl': 2919, 'fingerprint': 2920, 'weapon': 2921, 'hacker': 2922, 'lisbeth': 2923, 'saland': 2924, 'plung': 2925, 'meanwhil': 2926, 'trade': 2927, 'underbelli': 2928, 'philip': 2929, 'horn': 2930, 'oliv': 2931, 'advers': 2932, 'workhous': 2933, 'pompou': 2934, 'beadl': 2935, 'bumbl': 2936, 'lure': 2937, 'den': 2938, 'thief': 2939, 'vivid': 2940, 'memor': 2941, 'dodger': 2942, 'viciou': 2943, 'burglar': 2944, 'bill': 2945, 'sike': 2946, \"bull'\": 2947, 'prostitut': 2948, 'nanci': 2949, 'watch': 2950, 'cun': 2951, 'fagin': 2952, 'element': 2953, 'gothic': 2954, 'newgat': 2955, 'melodrama': 2956, 'dicken': 2957, 'scath': 2958, 'indict': 2959, 'pervad': 2960, 'threat': 2961, 'earliest': 2962, 'serialis': 2963, \"bentley'\": 2964, 'miscellani': 2965, 'victorian': 2966, \"thieves'\": 2967, 'slang': 2968, 'chronolog': 2969, \"dickens'\": 2970, 'georg': 2971, \"cruikshank'\": 2972, 'seventi': 2973, '700': 2974, 'repres': 2975, 'bookshelf': 2976, 'disciplin': 2977, 'authorit': 2978, 'enhanc': 2979, 'distinguish': 2980, 'scholar': 2981, 'worldwid': 2982, 'invit': 2983, \"bibliophile'\": 2984, 'lone': 2985, 'bastian': 2986, 'fantastica': 2987, 'ruler': 2988, 'childlik': 2989, 'empress': 2990, 'deeper': 2991, 'foe': 2992, 'flap': 2993, 'odyssey': 2994, 'landmark': 2995, 'dublin': 2996, '1904': 2997, 'leopold': 2998, 'bloom': 2999, 'buck': 3000, 'mulligan': 3001, 'stephen': 3002, 'dedalu': 3003, 'molli': 3004, 'scintil': 3005, 'cast': 3006, 'support': 3007, 'joyc': 3008, 'celtic': 3009, 'vulgar': 3010, 'techniqu': 3011, 'interior': 3012, 'monologu': 3013, 'exuber': 3014, 'wordplay': 3015, 'earthi': 3016, 'sheer': 3017, 'pure': 3018, 'jim': 3019, 'hawkin': 3020, 'pew': 3021, 'admir': 3022, 'benbow': 3023, 'inn': 3024, 'climact': 3025, 'tropic': 3026, 'scene': 3027, 'superb': 3028, 'stylist': 3029, 'villaini': 3030, 'ambigu': 3031, 'rogu': 3032, 'tempo': 3033, 'treacheri': 3034, 'design': 3035, 'kindl': 3036, 'horizon': 3037, 'g': 3038, 'k': 3039, 'chesterton': 3040, \"'the\": 3041, 'beckon': 3042, 'skeleton': 3043, 'palm': 3044, 'sapphir': 3045, \"'\": 3046, 'fraser': 3047, \"'an\": 3048, \"'there\": 3049, 'anastasia': 3050, 'steel': 3051, 'interview': 3052, 'entrepreneur': 3053, 'grey': 3054, 'intimid': 3055, 'unworldli': 3056, 'ana': 3057, 'unabl': 3058, 'resist': 3059, 'admit': 3060, 'tast': 3061, 'hesit': 3062, 'multin': 3063, 'wealth': 3064, 'control': 3065, 'coupl': 3066, 'physic': 3067, 'shade': 3068, 'ob': 3069, 'poss': 3070, 'intend': 3071, 'matur': 3072, 'audienc': 3073, 'awesom': 3074, 'boundari': 3075, \"auel'\": 3076, 'ayla': 3077, 'swept': 3078, 'ice': 3079, 'clan': 3080, 'wander': 3081, 'unfamiliar': 3082, 'blond': 3083, 'ugli': 3084, 'homeland': 3085, 'iza': 3086, 'creb': 3087, 'mog': 3088, 'ur': 3089, \"iza'\": 3090, 'accept': 3091, 'brutal': 3092, 'proud': 3093, 'leader': 3094, 'abid': 3095, 'hatr': 3096, 'midst': 3097, 'reveng': 3098, \"martin'\": 3099, 'clash': 3100, 'compris': 3101, 'genuin': 3102, 'contend': 3103, 'disfavor': 3104, 'allianc': 3105, 'joffrey': 3106, 'bitter': 3107, 'stanni': 3108, 'sorceress': 3109, 'robb': 3110, 'riverrun': 3111, 'drench': 3112, 'exil': 3113, 'daeneri': 3114, 'oppos': 3115, 'manoeuv': 3116, 'showdown': 3117, 'barbar': 3118, 'wildl': 3119, 'outermost': 3120, 'hord': 3121, 'corp': 3122, 'explod': 3123, 'verit': 3124, \"chaucer'\": 3125, 'mediev': 3126, 'tapestri': 3127, 'miller': 3128, 'friar': 3129, 'squir': 3130, 'prioress': 3131, 'bath': 3132, 'chaucer': 3133, 'latin': 3134, 'europ': 3135, 'magnitud': 3136, 'burst': 3137, 'forth': 3138, 'canterburi': 3139, 'prologu': 3140, 'pilgrim': 3141, 'project': 3142, 'uncertain': 3143, 'print': 3144, 'press': 3145, 'pass': 3146, 'sever': 3147, 'handwritten': 3148, 'garp': 3149, 'bastard': 3150, 'jenni': 3151, 'feminist': 3152, 'ahead': 3153, 'sexual': 3154, 'lunaci': 3155, 'undermin': 3156, 'ribald': 3157, 'forti': 3158, 'hilari': 3159, 'accord': 3160, 'termin': 3161, 'farewel': 3162, 'ambul': 3163, 'driver': 3164, 'nurs': 3165, 'battlefield': 3166, 'weari': 3167, 'demor': 3168, 'march': 3169, 'rain': 3170, 'caporetto': 3171, 'desert': 3172, 'semiautobiograph': 3173, 'inexor': 3174, 'sweep': 3175, 'hemingway': 3176, 'famous': 3177, 'rewrot': 3178, 'david': 3179, 'copperfield': 3180, 'vocat': 3181, 'tyrann': 3182, 'stepfath': 3183, 'murdston': 3184, 'unworthi': 3185, 'jame': 3186, 'steerforth': 3187, 'formid': 3188, 'betsey': 3189, 'trotwood': 3190, 'treacher': 3191, 'uriah': 3192, 'heep': 3193, 'dora': 3194, 'spenlow': 3195, 'impecuni': 3196, 'wilkin': 3197, 'micawb': 3198, \"literature'\": 3199, 'creation': 3200, \"'favourit\": 3201, \"child'\": 3202, 'drew': 3203, 'revealingli': 3204, 'enduringli': 3205, 'measur': 3206, 'us': 3207, '1850': 3208, 'updat': 3209, \"'phiz'\": 3210, 'jeremi': 3211, 'tambl': 3212, 'discu': 3213, 'autobiograph': 3214}\n"
     ]
    }
   ],
   "source": [
    "#DEF Cleaning\n",
    "import pandas as pd\n",
    "import nltk\n",
    "from nltk.corpus import stopwords\n",
    "from nltk.stem.snowball import PorterStemmer\n",
    "from nltk.tokenize import RegexpTokenizer\n",
    "from nltk.stem import WordNetLemmatizer \n",
    "final_plot=[]\n",
    "stemmer=PorterStemmer()\n",
    "stop = set(stopwords.words('english'))\n",
    "lemmatizer = WordNetLemmatizer() \n",
    "df=pd.read_csv('output.tsv',sep=\"\\t\")\n",
    "for i in range(0,len(df)):\n",
    "    new_plot=[]\n",
    "    plot=df.loc[i,\"Plot\"]\n",
    "    tokenizer = RegexpTokenizer(\"[\\w']+\")  \n",
    "    plot = tokenizer.tokenize(plot.lower()) \n",
    "    for word in plot:\n",
    "        if word not in stop:\n",
    "            new_plot.append(word) \n",
    "    final = [lemmatizer.lemmatize(i) for i in new_plot]\n",
    "    final1 = [stemmer.stem(word) for word in final]\n",
    "    final_plot.append(final1)\n",
    "\n",
    "#DEF Vocabulary \n",
    "vocabulary={}\n",
    "i = 0\n",
    "for element in final_plot:\n",
    "    for sub_element in element:\n",
    "        if(i>0 and sub_element in vocabulary):\n",
    "            continue\n",
    "        else:\n",
    "            i= i+1\n",
    "            vocabulary[sub_element] = i\n",
    "\n",
    "print(vocabulary)"
   ]
  },
  {
   "cell_type": "code",
   "execution_count": null,
   "metadata": {},
   "outputs": [],
   "source": []
  },
  {
   "cell_type": "code",
   "execution_count": null,
   "metadata": {},
   "outputs": [],
   "source": []
  }
 ],
 "metadata": {
  "kernelspec": {
   "display_name": "Python 3",
   "language": "python",
   "name": "python3"
  },
  "language_info": {
   "codemirror_mode": {
    "name": "ipython",
    "version": 3
   },
   "file_extension": ".py",
   "mimetype": "text/x-python",
   "name": "python",
   "nbconvert_exporter": "python",
   "pygments_lexer": "ipython3",
   "version": "3.8.2"
  }
 },
 "nbformat": 4,
 "nbformat_minor": 4
}
